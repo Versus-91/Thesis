{
 "cells": [
  {
   "cell_type": "markdown",
   "metadata": {
    "id": "UL9EB0Mn9ny5"
   },
   "source": [
    "# Mean-variance optimization\n",
    "\n",
    "In this cookbook recipe, we work on several examples demonstrating PyPortfolioOpt's mean-variance capabilities. I will discuss what I think should be your \"default\" options, based on my experience in optimising portfolios.\n",
    "\n",
    "To start, you need a list of tickers. Some people just provide the whole universe of stocks, but I don't think this is a good idea - portfolio optimization is quite different from asset selection. I would suggest anywhere from 10-50 stocks as a starting point.\n",
    "\n",
    "Some of the things we cover:\n",
    "\n",
    "- Downloading data and getting it into PyPortfolioOpt\n",
    "- Calculating and visualising the covariance matrix\n",
    "- Optimising a long/short portfolio to minimise total variance\n",
    "- Optimising a portfolio to maximise the Sharpe ratio, subject to sector constraints\n",
    "- Optimising a portfolio to maximise return for a given risk, subject to sector constraints, with an L2 regularisation objective\n",
    "- Optimising a market-neutral portfolio to minimise risk for a given level of return\n",
    "- Optimising along the mean-semivariance frontier\n",
    "- Optimising along the mean-CVaR frontier\n",
    "- Plotting the efficient frontier:\n",
    "    - Simple (using CLA)\n",
    "    - Constrained\n",
    "    - Complex plots\n",
    "\n",
    "Please consult the [docs](https://pyportfolioopt.readthedocs.io/) for more info.\n",
    "\n",
    "## Downloading data\n",
    "\n",
    "To download data, we will use `yfinance`, an excellent library that provides free price data from Yahoo Finance, no API key needed.\n",
    "\n",
    "[![Open In Colab](https://colab.research.google.com/assets/colab-badge.svg)](https://colab.research.google.com/github/robertmartin8/PyPortfolioOpt/blob/master/cookbook/2-Mean-Variance-Optimisation.ipynb)\n",
    "    \n",
    "[![Kaggle](https://kaggle.com/static/images/open-in-kaggle.svg)](https://kaggle.com/kernels/welcome?src=https://github.com/robertmartin8/PyPortfolioOpt/blob/master/cookbook/2-Mean-Variance-Optimisation.ipynb)\n",
    "    \n",
    "[![Gradient](https://assets.paperspace.io/img/gradient-badge.svg)](https://console.paperspace.com/github/robertmartin8/PyPortfolioOpt/blob/master/cookbook/2-Mean-Variance-Optimisation.ipynb)\n",
    "    \n",
    "[![Open In SageMaker Studio Lab](https://studiolab.sagemaker.aws/studiolab.svg)](https://studiolab.sagemaker.aws/import/github/robertmartin8/PyPortfolioOpt/blob/master/cookbook/2-Mean-Variance-Optimisation.ipynb)"
   ]
  },
  {
   "cell_type": "code",
   "execution_count": 56,
   "metadata": {
    "colab": {
     "base_uri": "https://localhost:8080/"
    },
    "id": "69vaYVwZ-Cxz",
    "outputId": "dee1bf4a-82ee-4909-e26b-217899258cf2"
   },
   "outputs": [
    {
     "name": "stdout",
     "output_type": "stream",
     "text": [
      "Requirement already satisfied: pandas in /usr/local/lib/python3.7/dist-packages (1.3.5)\n",
      "Requirement already satisfied: numpy in /usr/local/lib/python3.7/dist-packages (1.19.5)\n",
      "Requirement already satisfied: matplotlib in /usr/local/lib/python3.7/dist-packages (3.2.2)\n",
      "Requirement already satisfied: yfinance in /usr/local/lib/python3.7/dist-packages (0.1.70)\n",
      "Requirement already satisfied: PyPortfolioOpt in /usr/local/lib/python3.7/dist-packages (1.5.1)\n",
      "Requirement already satisfied: pytz>=2017.3 in /usr/local/lib/python3.7/dist-packages (from pandas) (2018.9)\n",
      "Requirement already satisfied: python-dateutil>=2.7.3 in /usr/local/lib/python3.7/dist-packages (from pandas) (2.8.2)\n",
      "Requirement already satisfied: six>=1.5 in /usr/local/lib/python3.7/dist-packages (from python-dateutil>=2.7.3->pandas) (1.15.0)\n",
      "Requirement already satisfied: cycler>=0.10 in /usr/local/lib/python3.7/dist-packages (from matplotlib) (0.11.0)\n",
      "Requirement already satisfied: pyparsing!=2.0.4,!=2.1.2,!=2.1.6,>=2.0.1 in /usr/local/lib/python3.7/dist-packages (from matplotlib) (3.0.7)\n",
      "Requirement already satisfied: kiwisolver>=1.0.1 in /usr/local/lib/python3.7/dist-packages (from matplotlib) (1.3.2)\n",
      "Requirement already satisfied: multitasking>=0.0.7 in /usr/local/lib/python3.7/dist-packages (from yfinance) (0.0.10)\n",
      "Requirement already satisfied: requests>=2.26 in /usr/local/lib/python3.7/dist-packages (from yfinance) (2.27.1)\n",
      "Requirement already satisfied: lxml>=4.5.1 in /usr/local/lib/python3.7/dist-packages (from yfinance) (4.7.1)\n",
      "Requirement already satisfied: certifi>=2017.4.17 in /usr/local/lib/python3.7/dist-packages (from requests>=2.26->yfinance) (2021.10.8)\n",
      "Requirement already satisfied: idna<4,>=2.5 in /usr/local/lib/python3.7/dist-packages (from requests>=2.26->yfinance) (2.10)\n",
      "Requirement already satisfied: charset-normalizer~=2.0.0 in /usr/local/lib/python3.7/dist-packages (from requests>=2.26->yfinance) (2.0.11)\n",
      "Requirement already satisfied: urllib3<1.27,>=1.21.1 in /usr/local/lib/python3.7/dist-packages (from requests>=2.26->yfinance) (1.24.3)\n",
      "Requirement already satisfied: cvxpy<2.0.0,>=1.1.10 in /usr/local/lib/python3.7/dist-packages (from PyPortfolioOpt) (1.1.18)\n",
      "Requirement already satisfied: scipy<2.0,>=1.3 in /usr/local/lib/python3.7/dist-packages (from PyPortfolioOpt) (1.4.1)\n",
      "Requirement already satisfied: osqp>=0.4.1 in /usr/local/lib/python3.7/dist-packages (from cvxpy<2.0.0,>=1.1.10->PyPortfolioOpt) (0.6.2.post0)\n",
      "Requirement already satisfied: scs>=1.1.6 in /usr/local/lib/python3.7/dist-packages (from cvxpy<2.0.0,>=1.1.10->PyPortfolioOpt) (3.1.0)\n",
      "Requirement already satisfied: ecos>=2 in /usr/local/lib/python3.7/dist-packages (from cvxpy<2.0.0,>=1.1.10->PyPortfolioOpt) (2.0.10)\n",
      "Requirement already satisfied: qdldl in /usr/local/lib/python3.7/dist-packages (from osqp>=0.4.1->cvxpy<2.0.0,>=1.1.10->PyPortfolioOpt) (0.1.5.post0)\n"
     ]
    }
   ],
   "source": [
    "!pip install pandas numpy matplotlib yfinance PyPortfolioOpt\n",
    "import os\n",
    "if not os.path.isdir('data'):\n",
    "    os.system('git clone https://github.com/robertmartin8/PyPortfolioOpt.git')\n",
    "    os.chdir('PyPortfolioOpt/cookbook')"
   ]
  },
  {
   "cell_type": "code",
   "execution_count": 2,
   "metadata": {
    "id": "shuJGGeo9ny8"
   },
   "outputs": [],
   "source": [
    "import yfinance as yf\n",
    "import matplotlib.pyplot as plt\n",
    "import pandas as pd\n",
    "import numpy as np"
   ]
  },
  {
   "cell_type": "code",
   "execution_count": 74,
   "metadata": {
    "id": "c4r8LJdC9ny8"
   },
   "outputs": [],
   "source": [
    "tickers = [\"MSFT\", \"AMZN\", \"KO\", \"MA\", \"COST\", \n",
    "           \"LUV\", \"XOM\", \"PFE\", \"JPM\", \"UNH\", \n",
    "           \"ACN\", \"DIS\", \"GILD\", \"F\", \"TSLA\"] "
   ]
  },
  {
   "cell_type": "code",
   "execution_count": 99,
   "metadata": {
    "colab": {
     "base_uri": "https://localhost:8080/"
    },
    "id": "XWdfXpB69ny9",
    "outputId": "e60980bf-21e3-470f-a4f7-99da82c820a4"
   },
   "outputs": [
    {
     "name": "stderr",
     "output_type": "stream",
     "text": [
      "[*********************100%%**********************]  15 of 15 completed\n"
     ]
    }
   ],
   "source": [
    "from finrl.config_tickers import DOW_30_TICKER,NAS_100_TICKER,HSI_50_TICKER,DAX_30_TICKER,SP_500_TICKER\n",
    "ohlc = yf.download(tickers, period=\"max\")"
   ]
  },
  {
   "cell_type": "code",
   "execution_count": 100,
   "metadata": {
    "colab": {
     "base_uri": "https://localhost:8080/",
     "height": 388
    },
    "id": "S7voZG_T9ny-",
    "outputId": "de26041a-af6d-4554-eb32-1eb9d57d5f3e"
   },
   "outputs": [
    {
     "data": {
      "text/html": [
       "<div>\n",
       "<style scoped>\n",
       "    .dataframe tbody tr th:only-of-type {\n",
       "        vertical-align: middle;\n",
       "    }\n",
       "\n",
       "    .dataframe tbody tr th {\n",
       "        vertical-align: top;\n",
       "    }\n",
       "\n",
       "    .dataframe thead th {\n",
       "        text-align: right;\n",
       "    }\n",
       "</style>\n",
       "<table border=\"1\" class=\"dataframe\">\n",
       "  <thead>\n",
       "    <tr style=\"text-align: right;\">\n",
       "      <th>Ticker</th>\n",
       "      <th>ACN</th>\n",
       "      <th>AMZN</th>\n",
       "      <th>COST</th>\n",
       "      <th>DIS</th>\n",
       "      <th>F</th>\n",
       "      <th>GILD</th>\n",
       "      <th>JPM</th>\n",
       "      <th>KO</th>\n",
       "      <th>LUV</th>\n",
       "      <th>MA</th>\n",
       "      <th>MSFT</th>\n",
       "      <th>PFE</th>\n",
       "      <th>TSLA</th>\n",
       "      <th>UNH</th>\n",
       "      <th>XOM</th>\n",
       "    </tr>\n",
       "    <tr>\n",
       "      <th>Date</th>\n",
       "      <th></th>\n",
       "      <th></th>\n",
       "      <th></th>\n",
       "      <th></th>\n",
       "      <th></th>\n",
       "      <th></th>\n",
       "      <th></th>\n",
       "      <th></th>\n",
       "      <th></th>\n",
       "      <th></th>\n",
       "      <th></th>\n",
       "      <th></th>\n",
       "      <th></th>\n",
       "      <th></th>\n",
       "      <th></th>\n",
       "    </tr>\n",
       "  </thead>\n",
       "  <tbody>\n",
       "    <tr>\n",
       "      <th>2024-11-04</th>\n",
       "      <td>343.899994</td>\n",
       "      <td>195.779999</td>\n",
       "      <td>886.070007</td>\n",
       "      <td>95.790001</td>\n",
       "      <td>10.221126</td>\n",
       "      <td>89.839996</td>\n",
       "      <td>219.779999</td>\n",
       "      <td>65.110001</td>\n",
       "      <td>29.910000</td>\n",
       "      <td>505.579987</td>\n",
       "      <td>408.459991</td>\n",
       "      <td>27.335411</td>\n",
       "      <td>242.839996</td>\n",
       "      <td>557.770020</td>\n",
       "      <td>118.610001</td>\n",
       "    </tr>\n",
       "    <tr>\n",
       "      <th>2024-11-05</th>\n",
       "      <td>345.489990</td>\n",
       "      <td>199.500000</td>\n",
       "      <td>890.169983</td>\n",
       "      <td>96.629997</td>\n",
       "      <td>10.457909</td>\n",
       "      <td>90.220001</td>\n",
       "      <td>221.490005</td>\n",
       "      <td>65.370003</td>\n",
       "      <td>30.629999</td>\n",
       "      <td>505.559998</td>\n",
       "      <td>411.459991</td>\n",
       "      <td>27.561893</td>\n",
       "      <td>251.440002</td>\n",
       "      <td>567.030029</td>\n",
       "      <td>118.959999</td>\n",
       "    </tr>\n",
       "    <tr>\n",
       "      <th>2024-11-06</th>\n",
       "      <td>356.130005</td>\n",
       "      <td>207.089996</td>\n",
       "      <td>899.250000</td>\n",
       "      <td>98.889999</td>\n",
       "      <td>11.039999</td>\n",
       "      <td>91.690002</td>\n",
       "      <td>247.059998</td>\n",
       "      <td>63.700001</td>\n",
       "      <td>31.389999</td>\n",
       "      <td>521.130005</td>\n",
       "      <td>420.179993</td>\n",
       "      <td>26.941530</td>\n",
       "      <td>288.529999</td>\n",
       "      <td>596.690002</td>\n",
       "      <td>121.000000</td>\n",
       "    </tr>\n",
       "    <tr>\n",
       "      <th>2024-11-07</th>\n",
       "      <td>360.709991</td>\n",
       "      <td>210.050003</td>\n",
       "      <td>913.929993</td>\n",
       "      <td>98.930000</td>\n",
       "      <td>10.960000</td>\n",
       "      <td>97.900002</td>\n",
       "      <td>236.380005</td>\n",
       "      <td>63.660000</td>\n",
       "      <td>31.260000</td>\n",
       "      <td>517.880005</td>\n",
       "      <td>425.429993</td>\n",
       "      <td>27.039999</td>\n",
       "      <td>296.910004</td>\n",
       "      <td>605.450012</td>\n",
       "      <td>121.150002</td>\n",
       "    </tr>\n",
       "    <tr>\n",
       "      <th>2024-11-08</th>\n",
       "      <td>355.529999</td>\n",
       "      <td>208.179993</td>\n",
       "      <td>943.799988</td>\n",
       "      <td>99.019997</td>\n",
       "      <td>10.970000</td>\n",
       "      <td>96.570000</td>\n",
       "      <td>236.979996</td>\n",
       "      <td>63.919998</td>\n",
       "      <td>31.780001</td>\n",
       "      <td>524.760010</td>\n",
       "      <td>422.540009</td>\n",
       "      <td>26.719999</td>\n",
       "      <td>321.220001</td>\n",
       "      <td>615.809998</td>\n",
       "      <td>121.110001</td>\n",
       "    </tr>\n",
       "  </tbody>\n",
       "</table>\n",
       "</div>"
      ],
      "text/plain": [
       "Ticker             ACN        AMZN        COST        DIS          F  \\\n",
       "Date                                                                   \n",
       "2024-11-04  343.899994  195.779999  886.070007  95.790001  10.221126   \n",
       "2024-11-05  345.489990  199.500000  890.169983  96.629997  10.457909   \n",
       "2024-11-06  356.130005  207.089996  899.250000  98.889999  11.039999   \n",
       "2024-11-07  360.709991  210.050003  913.929993  98.930000  10.960000   \n",
       "2024-11-08  355.529999  208.179993  943.799988  99.019997  10.970000   \n",
       "\n",
       "Ticker           GILD         JPM         KO        LUV          MA  \\\n",
       "Date                                                                  \n",
       "2024-11-04  89.839996  219.779999  65.110001  29.910000  505.579987   \n",
       "2024-11-05  90.220001  221.490005  65.370003  30.629999  505.559998   \n",
       "2024-11-06  91.690002  247.059998  63.700001  31.389999  521.130005   \n",
       "2024-11-07  97.900002  236.380005  63.660000  31.260000  517.880005   \n",
       "2024-11-08  96.570000  236.979996  63.919998  31.780001  524.760010   \n",
       "\n",
       "Ticker            MSFT        PFE        TSLA         UNH         XOM  \n",
       "Date                                                                   \n",
       "2024-11-04  408.459991  27.335411  242.839996  557.770020  118.610001  \n",
       "2024-11-05  411.459991  27.561893  251.440002  567.030029  118.959999  \n",
       "2024-11-06  420.179993  26.941530  288.529999  596.690002  121.000000  \n",
       "2024-11-07  425.429993  27.039999  296.910004  605.450012  121.150002  \n",
       "2024-11-08  422.540009  26.719999  321.220001  615.809998  121.110001  "
      ]
     },
     "execution_count": 100,
     "metadata": {},
     "output_type": "execute_result"
    }
   ],
   "source": [
    "prices = ohlc[\"Adj Close\"].dropna(how=\"all\")\n",
    "prices.tail()"
   ]
  },
  {
   "cell_type": "code",
   "execution_count": 6,
   "metadata": {
    "colab": {
     "base_uri": "https://localhost:8080/",
     "height": 563
    },
    "id": "-8Et4dlp9ny-",
    "outputId": "e35cbcf6-f837-4a84-9946-b7a31d4b6901"
   },
   "outputs": [],
   "source": [
    "prices[prices.index >= \"2008-01-01\"].plot(figsize=(15,10));"
   ]
  },
  {
   "cell_type": "markdown",
   "metadata": {
    "id": "v4vdGWLR9ny-"
   },
   "source": [
    "## Calculating the covariance matrix"
   ]
  },
  {
   "cell_type": "code",
   "execution_count": 7,
   "metadata": {
    "colab": {
     "base_uri": "https://localhost:8080/",
     "height": 35
    },
    "id": "dTFkI4ll9ny-",
    "outputId": "2a0c7a48-d357-4445-bdd1-44dbe901c17a"
   },
   "outputs": [
    {
     "data": {
      "text/plain": [
       "'1.5.5'"
      ]
     },
     "execution_count": 7,
     "metadata": {},
     "output_type": "execute_result"
    }
   ],
   "source": [
    "import pypfopt\n",
    "pypfopt.__version__"
   ]
  },
  {
   "cell_type": "code",
   "execution_count": 58,
   "metadata": {
    "colab": {
     "base_uri": "https://localhost:8080/",
     "height": 520
    },
    "id": "0hDN8ZJG9ny_",
    "outputId": "35244fed-56ac-4207-ee84-736e924b1210"
   },
   "outputs": [
    {
     "name": "stderr",
     "output_type": "stream",
     "text": [
      "c:\\Users\\versu\\anaconda3\\envs\\Thesis\\lib\\site-packages\\pypfopt\\risk_models.py:70: UserWarning: The covariance matrix is non positive semidefinite. Amending eigenvalues.\n",
      "  warnings.warn(\n"
     ]
    },
    {
     "data": {
      "text/plain": [
       "array([[0.195075  , 0.04111087, 0.04792537, 0.03604221, 0.03977183,\n",
       "        0.05643717, 0.06773672, 0.02658969, 0.03943117, 0.04351162,\n",
       "        0.05442252, 0.04368586, 0.03585958, 0.04271054, 0.07611934,\n",
       "        0.02262383, 0.04485917, 0.02444883, 0.02687792, 0.02988019,\n",
       "        0.02489609, 0.06170139, 0.03801721, 0.02172742, 0.02783814,\n",
       "        0.03256332, 0.04397882, 0.02088372, 0.02871019, 0.03103894],\n",
       "       [0.04111087, 0.14304992, 0.0361849 , 0.02627867, 0.0262919 ,\n",
       "        0.03058105, 0.04227102, 0.0210835 , 0.03055311, 0.03066557,\n",
       "        0.03701644, 0.03410937, 0.02638014, 0.02603469, 0.0441098 ,\n",
       "        0.02726551, 0.03430602, 0.02160137, 0.02097611, 0.02231734,\n",
       "        0.0312312 , 0.04077704, 0.02708058, 0.0200946 , 0.02615516,\n",
       "        0.03600567, 0.02806944, 0.01863441, 0.02763427, 0.02638582],\n",
       "       [0.04792537, 0.0361849 , 0.12156774, 0.04985508, 0.04778917,\n",
       "        0.05706369, 0.05389358, 0.03776018, 0.05079152, 0.07590239,\n",
       "        0.08340467, 0.04899289, 0.04673732, 0.03923285, 0.0539936 ,\n",
       "        0.02945067, 0.07404629, 0.03280675, 0.03541858, 0.0381838 ,\n",
       "        0.03187041, 0.04829908, 0.0406696 , 0.0278572 , 0.04210611,\n",
       "        0.03891153, 0.06417535, 0.02985387, 0.03553989, 0.03190876],\n",
       "       [0.03604221, 0.02627867, 0.04985508, 0.11679967, 0.0368258 ,\n",
       "        0.0480032 , 0.03824031, 0.03156428, 0.03845375, 0.08445297,\n",
       "        0.05369455, 0.03660137, 0.0384357 , 0.03022296, 0.04258603,\n",
       "        0.02182131, 0.04478396, 0.02325343, 0.02928421, 0.02978642,\n",
       "        0.02204611, 0.03451482, 0.03308981, 0.01876103, 0.03079738,\n",
       "        0.03007742, 0.04553009, 0.02014409, 0.02991769, 0.02261677],\n",
       "       [0.03977183, 0.0262919 , 0.04778917, 0.0368258 , 0.08920449,\n",
       "        0.04984739, 0.04200056, 0.03045389, 0.03298636, 0.07486864,\n",
       "        0.05777101, 0.03741213, 0.03637287, 0.02807336, 0.04331236,\n",
       "        0.01868396, 0.04778348, 0.02049221, 0.02383505, 0.03151459,\n",
       "        0.02031061, 0.03712214, 0.03285122, 0.01739841, 0.03003373,\n",
       "        0.03079301, 0.04337263, 0.02088081, 0.03001947, 0.02274644],\n",
       "       [0.05643717, 0.03058105, 0.05706369, 0.0480032 , 0.04984739,\n",
       "        0.17616104, 0.05294392, 0.03818489, 0.04654216, 0.04485377,\n",
       "        0.05845152, 0.04464086, 0.04326099, 0.03525823, 0.05613634,\n",
       "        0.02014104, 0.05419171, 0.02205843, 0.02820855, 0.03378881,\n",
       "        0.02812554, 0.05471263, 0.04539881, 0.02069027, 0.0359666 ,\n",
       "        0.03536711, 0.0551463 , 0.02536075, 0.03049414, 0.0214055 ],\n",
       "       [0.06773672, 0.04227102, 0.05389358, 0.03824031, 0.04200056,\n",
       "        0.05294392, 0.15562947, 0.02608116, 0.04387001, 0.04614417,\n",
       "        0.06390754, 0.04616325, 0.04218791, 0.0486235 , 0.08197852,\n",
       "        0.02054664, 0.05705201, 0.02192565, 0.02598929, 0.02944756,\n",
       "        0.02576817, 0.0653266 , 0.0379254 , 0.02106029, 0.03223597,\n",
       "        0.03389934, 0.04143499, 0.02558756, 0.02971361, 0.03032107],\n",
       "       [0.02658969, 0.0210835 , 0.03776018, 0.03156428, 0.03045389,\n",
       "        0.03818489, 0.02608116, 0.06854143, 0.02768339, 0.06524327,\n",
       "        0.04229743, 0.02583018, 0.02980926, 0.02286361, 0.03126984,\n",
       "        0.0176586 , 0.03597839, 0.01893918, 0.01984011, 0.0240918 ,\n",
       "        0.01872522, 0.02797862, 0.02317747, 0.01566159, 0.02553024,\n",
       "        0.02512936, 0.03822929, 0.01946815, 0.02293085, 0.01597528],\n",
       "       [0.03943117, 0.03055311, 0.05079152, 0.03845375, 0.03298636,\n",
       "        0.04654216, 0.04387001, 0.02768339, 0.09923199, 0.05494977,\n",
       "        0.05449676, 0.03849791, 0.0349767 , 0.03073882, 0.04285218,\n",
       "        0.0233685 , 0.04639468, 0.02545497, 0.03286781, 0.02815971,\n",
       "        0.02428932, 0.04167126, 0.03367045, 0.02139166, 0.02764136,\n",
       "        0.03051631, 0.04305334, 0.02443145, 0.02800875, 0.02527866],\n",
       "       [0.04351162, 0.03066557, 0.07590239, 0.08445297, 0.07486864,\n",
       "        0.04485377, 0.04614417, 0.06524327, 0.05494977, 0.13756312,\n",
       "        0.07474679, 0.04584422, 0.05523138, 0.04834926, 0.05859906,\n",
       "        0.0238553 , 0.06969092, 0.03335865, 0.03303518, 0.05138727,\n",
       "        0.02267446, 0.03980485, 0.05083243, 0.02319006, 0.05122295,\n",
       "        0.03490725, 0.05222225, 0.02702087, 0.05233966, 0.02225551],\n",
       "       [0.05442252, 0.03701644, 0.08340467, 0.05369455, 0.05777101,\n",
       "        0.05845152, 0.06390754, 0.04229743, 0.05449676, 0.07474679,\n",
       "        0.13268555, 0.05333485, 0.05375633, 0.04262885, 0.06152545,\n",
       "        0.02187643, 0.09756374, 0.02115164, 0.02668382, 0.03968892,\n",
       "        0.0282767 , 0.05143944, 0.04087413, 0.01954203, 0.05132736,\n",
       "        0.03941686, 0.05725815, 0.03017165, 0.03421841, 0.02842609],\n",
       "       [0.04368586, 0.03410937, 0.04899289, 0.03660137, 0.03741213,\n",
       "        0.04464086, 0.04616325, 0.02583018, 0.03849791, 0.04584422,\n",
       "        0.05333485, 0.13222177, 0.03715384, 0.03047229, 0.04603689,\n",
       "        0.02431598, 0.04849276, 0.02576576, 0.02851941, 0.02953514,\n",
       "        0.02562775, 0.04378203, 0.03936383, 0.02326057, 0.03176879,\n",
       "        0.03366606, 0.03935431, 0.02342825, 0.0340684 , 0.04050018],\n",
       "       [0.03585958, 0.02638014, 0.04673732, 0.0384357 , 0.03637287,\n",
       "        0.04326099, 0.04218791, 0.02980926, 0.0349767 , 0.05523138,\n",
       "        0.05375633, 0.03715384, 0.08410598, 0.02800744, 0.04082277,\n",
       "        0.02121493, 0.04479639, 0.02261248, 0.02576661, 0.02994858,\n",
       "        0.0214384 , 0.03885477, 0.02866248, 0.02006217, 0.02922086,\n",
       "        0.02689364, 0.04101286, 0.02409799, 0.02563468, 0.02406682],\n",
       "       [0.04271054, 0.02603469, 0.03923285, 0.03022296, 0.02807336,\n",
       "        0.03525823, 0.0486235 , 0.02286361, 0.03073882, 0.04834926,\n",
       "        0.04262885, 0.03047229, 0.02800744, 0.06363848, 0.04728045,\n",
       "        0.01953061, 0.03833821, 0.01986981, 0.02373077, 0.02512789,\n",
       "        0.01978181, 0.03952081, 0.02484398, 0.01729631, 0.02293727,\n",
       "        0.02158252, 0.0312313 , 0.01998938, 0.02307488, 0.0202126 ],\n",
       "       [0.07611934, 0.0441098 , 0.0539936 , 0.04258603, 0.04331236,\n",
       "        0.05613634, 0.08197852, 0.03126984, 0.04285218, 0.05859906,\n",
       "        0.06152545, 0.04603689, 0.04082277, 0.04728045, 0.16027799,\n",
       "        0.02570493, 0.0511954 , 0.02543556, 0.02716642, 0.0346313 ,\n",
       "        0.02701521, 0.07253539, 0.03921471, 0.02355911, 0.03313538,\n",
       "        0.03246974, 0.04222399, 0.02535569, 0.03167302, 0.03319083],\n",
       "       [0.02262383, 0.02726551, 0.02945067, 0.02182131, 0.01868396,\n",
       "        0.02014104, 0.02054664, 0.0176586 , 0.0233685 , 0.0238553 ,\n",
       "        0.02187643, 0.02431598, 0.02121493, 0.01953061, 0.02570493,\n",
       "        0.05239981, 0.02389217, 0.02206182, 0.02250216, 0.02029653,\n",
       "        0.02619274, 0.02522752, 0.01958355, 0.02073739, 0.01784709,\n",
       "        0.02418464, 0.02227756, 0.01839992, 0.02200081, 0.02067245],\n",
       "       [0.04485917, 0.03430602, 0.07404629, 0.04478396, 0.04778348,\n",
       "        0.05419171, 0.05705201, 0.03597839, 0.04639468, 0.06969092,\n",
       "        0.09756374, 0.04849276, 0.04479639, 0.03833821, 0.0511954 ,\n",
       "        0.02389217, 0.12503462, 0.02673461, 0.02829126, 0.03548656,\n",
       "        0.02957448, 0.04707075, 0.03724698, 0.02379459, 0.04488561,\n",
       "        0.03703397, 0.05917115, 0.03068802, 0.03352598, 0.03013639],\n",
       "       [0.02444883, 0.02160137, 0.03280675, 0.02325343, 0.02049221,\n",
       "        0.02205843, 0.02192565, 0.01893918, 0.02545497, 0.03335865,\n",
       "        0.02115164, 0.02576576, 0.02261248, 0.01986981, 0.02543556,\n",
       "        0.02206182, 0.02673461, 0.05243876, 0.0247442 , 0.02137506,\n",
       "        0.02128461, 0.02668157, 0.02174825, 0.02302146, 0.01924072,\n",
       "        0.02229308, 0.02193503, 0.02154349, 0.02179302, 0.02247472],\n",
       "       [0.02687792, 0.02097611, 0.03541858, 0.02928421, 0.02383505,\n",
       "        0.02820855, 0.02598929, 0.01984011, 0.03286781, 0.03303518,\n",
       "        0.02668382, 0.02851941, 0.02576661, 0.02373077, 0.02716642,\n",
       "        0.02250216, 0.02829126, 0.0247442 , 0.08475507, 0.02256514,\n",
       "        0.02238799, 0.0254542 , 0.02338052, 0.02175913, 0.02087869,\n",
       "        0.0217489 , 0.02735447, 0.01762587, 0.02066299, 0.02135954],\n",
       "       [0.02988019, 0.02231734, 0.0381838 , 0.02978642, 0.03151459,\n",
       "        0.03378881, 0.02944756, 0.0240918 , 0.02815971, 0.05138727,\n",
       "        0.03968892, 0.02953514, 0.02994858, 0.02512789, 0.0346313 ,\n",
       "        0.02029653, 0.03548656, 0.02137506, 0.02256514, 0.05564854,\n",
       "        0.01988475, 0.02787644, 0.02650884, 0.01953108, 0.02461263,\n",
       "        0.02381446, 0.03179391, 0.01938681, 0.02354838, 0.02084887],\n",
       "       [0.02489609, 0.0312312 , 0.03187041, 0.02204611, 0.02031061,\n",
       "        0.02812554, 0.02576817, 0.01872522, 0.02428932, 0.02267446,\n",
       "        0.0282767 , 0.02562775, 0.0214384 , 0.01978181, 0.02701521,\n",
       "        0.02619274, 0.02957448, 0.02128461, 0.02238799, 0.01988475,\n",
       "        0.06159585, 0.02754152, 0.02081516, 0.0204638 , 0.02151492,\n",
       "        0.02747154, 0.02651919, 0.02022944, 0.02263202, 0.02133929],\n",
       "       [0.06170139, 0.04077704, 0.04829908, 0.03451482, 0.03712214,\n",
       "        0.05471263, 0.0653266 , 0.02797862, 0.04167126, 0.03980485,\n",
       "        0.05143944, 0.04378203, 0.03885477, 0.03952081, 0.07253539,\n",
       "        0.02522752, 0.04707075, 0.02668157, 0.0254542 , 0.02787644,\n",
       "        0.02754152, 0.11178225, 0.03567586, 0.02397591, 0.0293558 ,\n",
       "        0.03251328, 0.04219184, 0.02398578, 0.02789663, 0.03116867],\n",
       "       [0.03801721, 0.02708058, 0.0406696 , 0.03308981, 0.03285122,\n",
       "        0.04539881, 0.0379254 , 0.02317747, 0.03367045, 0.05083243,\n",
       "        0.04087413, 0.03936383, 0.02866248, 0.02484398, 0.03921471,\n",
       "        0.01958355, 0.03724698, 0.02174825, 0.02338052, 0.02650884,\n",
       "        0.02081516, 0.03567586, 0.11706657, 0.01822507, 0.02521742,\n",
       "        0.03015241, 0.04041843, 0.01944451, 0.02588195, 0.02604196],\n",
       "       [0.02172742, 0.0200946 , 0.0278572 , 0.01876103, 0.01739841,\n",
       "        0.02069027, 0.02106029, 0.01566159, 0.02139166, 0.02319006,\n",
       "        0.01954203, 0.02326057, 0.02006217, 0.01729631, 0.02355911,\n",
       "        0.02073739, 0.02379459, 0.02302146, 0.02175913, 0.01953108,\n",
       "        0.0204638 , 0.02397591, 0.01822507, 0.04549409, 0.01710155,\n",
       "        0.02064711, 0.02173723, 0.0197382 , 0.02105591, 0.02155683],\n",
       "       [0.02783814, 0.02615516, 0.04210611, 0.03079738, 0.03003373,\n",
       "        0.0359666 , 0.03223597, 0.02553024, 0.02764136, 0.05122295,\n",
       "        0.05132736, 0.03176879, 0.02922086, 0.02293727, 0.03313538,\n",
       "        0.01784709, 0.04488561, 0.01924072, 0.02087869, 0.02461263,\n",
       "        0.02151492, 0.0293558 , 0.02521742, 0.01710155, 0.07550842,\n",
       "        0.03193111, 0.03825783, 0.02109616, 0.02368104, 0.0210013 ],\n",
       "       [0.03256332, 0.03600567, 0.03891153, 0.03007742, 0.03079301,\n",
       "        0.03536711, 0.03389934, 0.02512936, 0.03051631, 0.03490725,\n",
       "        0.03941686, 0.03366606, 0.02689364, 0.02158252, 0.03246974,\n",
       "        0.02418464, 0.03703397, 0.02229308, 0.0217489 , 0.02381446,\n",
       "        0.02747154, 0.03251328, 0.03015241, 0.02064711, 0.03193111,\n",
       "        0.15628233, 0.03624375, 0.01654115, 0.02628899, 0.02307755],\n",
       "       [0.04397882, 0.02806944, 0.06417535, 0.04553009, 0.04337263,\n",
       "        0.0551463 , 0.04143499, 0.03822929, 0.04305334, 0.05222225,\n",
       "        0.05725815, 0.03935431, 0.04101286, 0.0312313 , 0.04222399,\n",
       "        0.02227756, 0.05917115, 0.02193503, 0.02735447, 0.03179391,\n",
       "        0.02651919, 0.04219184, 0.04041843, 0.02173723, 0.03825783,\n",
       "        0.03624375, 0.08530845, 0.02242108, 0.02884435, 0.02014345],\n",
       "       [0.02088372, 0.01863441, 0.02985387, 0.02014409, 0.02088081,\n",
       "        0.02536075, 0.02558756, 0.01946815, 0.02443145, 0.02702087,\n",
       "        0.03017165, 0.02342825, 0.02409799, 0.01998938, 0.02535569,\n",
       "        0.01839992, 0.03068802, 0.02154349, 0.01762587, 0.01938681,\n",
       "        0.02022944, 0.02398578, 0.01944451, 0.0197382 , 0.02109616,\n",
       "        0.01654115, 0.02242108, 0.05582696, 0.01923799, 0.02090075],\n",
       "       [0.02871019, 0.02763427, 0.03553989, 0.02991769, 0.03001947,\n",
       "        0.03049414, 0.02971361, 0.02293085, 0.02800875, 0.05233966,\n",
       "        0.03421841, 0.0340684 , 0.02563468, 0.02307488, 0.03167302,\n",
       "        0.02200081, 0.03352598, 0.02179302, 0.02066299, 0.02354838,\n",
       "        0.02263202, 0.02789663, 0.02588195, 0.02105591, 0.02368104,\n",
       "        0.02628899, 0.02884435, 0.01923799, 0.08701709, 0.02729186],\n",
       "       [0.03103894, 0.02638582, 0.03190876, 0.02261677, 0.02274644,\n",
       "        0.0214055 , 0.03032107, 0.01597528, 0.02527866, 0.02225551,\n",
       "        0.02842609, 0.04050018, 0.02406682, 0.0202126 , 0.03319083,\n",
       "        0.02067245, 0.03013639, 0.02247472, 0.02135954, 0.02084887,\n",
       "        0.02133929, 0.03116867, 0.02604196, 0.02155683, 0.0210013 ,\n",
       "        0.02307755, 0.02014345, 0.02090075, 0.02729186, 0.08575452]])"
      ]
     },
     "execution_count": 58,
     "metadata": {},
     "output_type": "execute_result"
    }
   ],
   "source": [
    "from pypfopt import risk_models\n",
    "from plotting import EfficientFrontier,plot_covariance,plot_efficient_frontier\n",
    "\n",
    "sample_cov = risk_models.sample_cov(prices, frequency=252)\n",
    "sample_cov.values"
   ]
  },
  {
   "cell_type": "code",
   "execution_count": 14,
   "metadata": {
    "colab": {
     "base_uri": "https://localhost:8080/",
     "height": 297
    },
    "id": "HZ15mDtz9ny_",
    "outputId": "5fe64424-4756-4289-e29e-39edc3eb83df"
   },
   "outputs": [
    {
     "data": {
      "image/png": "[encoded data removed]",
      "text/plain": [
       "<Figure size 640x480 with 2 Axes>"
      ]
     },
     "metadata": {},
     "output_type": "display_data"
    }
   ],
   "source": [
    "plot_covariance(sample_cov, plot_correlation=True);"
   ]
  },
  {
   "cell_type": "markdown",
   "metadata": {
    "id": "0bhjN57j9ny_"
   },
   "source": [
    "For reasons discussed in the docs, the sample covariance matrix should not be your default choice. I think a better option is Ledoit-Wolf shrinkage, which reduces the extreme values in the covariance matrix. In the image below, we can see that there are fewer bright spots outside the diagonal:"
   ]
  },
  {
   "cell_type": "code",
   "execution_count": 59,
   "metadata": {
    "colab": {
     "base_uri": "https://localhost:8080/",
     "height": 297
    },
    "id": "htpILjX-9nzA",
    "outputId": "254cc6d7-bbee-48bf-c888-82c85a96bf83"
   },
   "outputs": [
    {
     "data": {
      "image/png": "[encoded data removed]",
      "text/plain": [
       "<Figure size 640x480 with 2 Axes>"
      ]
     },
     "metadata": {},
     "output_type": "display_data"
    }
   ],
   "source": [
    "S = risk_models.CovarianceShrinkage(prices).ledoit_wolf()\n",
    "plot_covariance(S, plot_correlation=True);"
   ]
  },
  {
   "cell_type": "markdown",
   "metadata": {
    "id": "4mbpNBp39nzA"
   },
   "source": [
    "## Return estimation\n",
    "\n",
    "As discussed in the docs, it is often a bad idea to provide returns using a simple estimate like the mean of past returns. Unless you have a proprietary method for estimating returns, research suggests that you may be better off not providing expected returns – you can then just find the `min_volatility()` portfolio or use `HRP`. \n",
    "\n",
    "However, in this example we will use the CAPM returns, which aims to be slightly more stable than the default mean historical return. Please see the notebook `1-RiskReturnModels.ipynb` for more information."
   ]
  },
  {
   "cell_type": "code",
   "execution_count": 60,
   "metadata": {
    "colab": {
     "base_uri": "https://localhost:8080/"
    },
    "id": "c_syhOUu9nzH",
    "outputId": "40e40fd5-06ac-4f42-c375-7a240c15c27e"
   },
   "outputs": [
    {
     "data": {
      "text/plain": [
       "array([0.23100404, 0.18238684, 0.23717517, 0.18726527, 0.17063211,\n",
       "       0.23472492, 0.23530171, 0.14078531, 0.18848349, 0.26419208,\n",
       "       0.25766302, 0.2089217 , 0.17223489, 0.15546501, 0.24044502,\n",
       "       0.13211826, 0.2285507 , 0.13334996, 0.1594479 , 0.14788069,\n",
       "       0.13724667, 0.21666515, 0.17655813, 0.12043709, 0.15584878,\n",
       "       0.1804893 , 0.20895937, 0.13087984, 0.15663362, 0.15310151])"
      ]
     },
     "execution_count": 60,
     "metadata": {},
     "output_type": "execute_result"
    }
   ],
   "source": [
    "from pypfopt import expected_returns\n",
    "\n",
    "mu = expected_returns.capm_return(prices)\n",
    "mu.values"
   ]
  },
  {
   "cell_type": "code",
   "execution_count": 8,
   "metadata": {},
   "outputs": [
    {
     "data": {
      "text/plain": [
       "Ticker\n",
       "ACN     0.202509\n",
       "AMZN    0.340582\n",
       "COST    0.188729\n",
       "DIS     0.220284\n",
       "F       0.223581\n",
       "GILD    0.239770\n",
       "JPM     0.243937\n",
       "KO      0.144216\n",
       "LUV     0.223220\n",
       "MA      0.243863\n",
       "MSFT    0.232273\n",
       "PFE     0.172896\n",
       "TSLA    0.289825\n",
       "UNH     0.210516\n",
       "XOM     0.138857\n",
       "Name: mkt, dtype: float64"
      ]
     },
     "execution_count": 8,
     "metadata": {},
     "output_type": "execute_result"
    }
   ],
   "source": [
    "mu"
   ]
  },
  {
   "cell_type": "code",
   "execution_count": 17,
   "metadata": {
    "colab": {
     "base_uri": "https://localhost:8080/",
     "height": 374
    },
    "id": "MlqP3XP99nzH",
    "outputId": "f5e026c2-d259-4894-d3dc-a667d591e101"
   },
   "outputs": [
    {
     "data": {
      "image/png": "[encoded data removed]",
      "text/plain": [
       "<Figure size 1000x600 with 1 Axes>"
      ]
     },
     "metadata": {},
     "output_type": "display_data"
    }
   ],
   "source": [
    "mu.plot.barh(figsize=(10,6));"
   ]
  },
  {
   "cell_type": "markdown",
   "metadata": {
    "id": "iHNXRsJA9nzI"
   },
   "source": [
    "## Long/short min variance\n",
    "\n",
    "In this section, we construct a long/short portfolio with the objective of minimising variance. There is a good deal of research that demonstrates that these global-minimum variance (GMV) portfolios outperform mean-variance optimized portfolios."
   ]
  },
  {
   "cell_type": "code",
   "execution_count": 68,
   "metadata": {
    "id": "LTjcmcmK9nzI"
   },
   "outputs": [],
   "source": [
    "from pypfopt import EfficientFrontier"
   ]
  },
  {
   "cell_type": "code",
   "execution_count": 9,
   "metadata": {
    "colab": {
     "base_uri": "https://localhost:8080/"
    },
    "id": "ZD5_4rlY9nzI",
    "outputId": "81faef92-6667-4452-8859-3a659d235b14"
   },
   "outputs": [
    {
     "name": "stderr",
     "output_type": "stream",
     "text": [
      "c:\\Users\\versu\\anaconda3\\envs\\Thesis\\lib\\site-packages\\threadpoolctl.py:1214: RuntimeWarning: \n",
      "Found Intel OpenMP ('libiomp') and LLVM OpenMP ('libomp') loaded at\n",
      "the same time. Both libraries are known to be incompatible and this\n",
      "can cause random crashes or deadlocks on Linux when loaded in the\n",
      "same Python program.\n",
      "Using threadpoolctl may cause crashes or deadlocks. For more\n",
      "information and possible workarounds, please see\n",
      "    https://github.com/joblib/threadpoolctl/blob/master/multiple_openmp.md\n",
      "\n",
      "  warnings.warn(msg, RuntimeWarning)\n"
     ]
    },
    {
     "data": {
      "text/plain": [
       "[0.00103,\n",
       " 0.01595,\n",
       " -0.05823,\n",
       " -0.02266,\n",
       " -0.02146,\n",
       " 0.03071,\n",
       " 0.01365,\n",
       " -0.01102,\n",
       " -0.01346,\n",
       " 0.53799,\n",
       " 0.01544,\n",
       " -0.00183,\n",
       " -0.00409,\n",
       " 0.01471,\n",
       " -0.01463,\n",
       " 0.0453,\n",
       " -0.0354,\n",
       " 0.02623,\n",
       " 0.02406,\n",
       " 0.00789,\n",
       " 0.02586,\n",
       " 0.00594,\n",
       " 0.00435,\n",
       " 0.05395,\n",
       " 0.01542,\n",
       " 0.01467,\n",
       " 0.18206,\n",
       " 0.09879,\n",
       " 0.00791,\n",
       " 0.04087]"
      ]
     },
     "execution_count": 9,
     "metadata": {},
     "output_type": "execute_result"
    }
   ],
   "source": [
    "S = risk_models.CovarianceShrinkage(prices).ledoit_wolf()\n",
    "\n",
    "# You don't have to provide expected returns in this case\n",
    "ef = EfficientFrontier(None, S.values, weight_bounds=(None, None))\n",
    "ef.min_volatility()\n",
    "weights = ef.clean_weights()\n",
    "list(weights.values())"
   ]
  },
  {
   "cell_type": "code",
   "execution_count": null,
   "metadata": {},
   "outputs": [
    {
     "data": {
      "text/plain": [
       "[0.22563,\n",
       " 0.00645,\n",
       " 0.10043,\n",
       " -0.01991,\n",
       " -0.02336,\n",
       " 0.05007,\n",
       " -0.04635,\n",
       " 0.13789,\n",
       " 0.0236,\n",
       " 0.23845,\n",
       " -0.0015,\n",
       " 0.07214,\n",
       " 0.11144,\n",
       " 0.03678,\n",
       " 0.08825]"
      ]
     },
     "execution_count": 16,
     "metadata": {},
     "output_type": "execute_result"
    }
   ],
   "source": []
  },
  {
   "cell_type": "code",
   "execution_count": 70,
   "metadata": {
    "colab": {
     "base_uri": "https://localhost:8080/",
     "height": 265
    },
    "id": "RVRwHED99nzJ",
    "outputId": "f606418a-1614-4c38-9574-c18b1b9c5ac6"
   },
   "outputs": [
    {
     "data": {
      "image/png": "[encoded data removed]",
      "text/plain": [
       "<Figure size 432x288 with 1 Axes>"
      ]
     },
     "metadata": {
      "needs_background": "light"
     },
     "output_type": "display_data"
    }
   ],
   "source": [
    "pd.Series(weights).plot.barh();"
   ]
  },
  {
   "cell_type": "markdown",
   "metadata": {
    "id": "jpgqSknF9nzJ"
   },
   "source": [
    "We can get a quick indication of the portfolio performance as follows. Note that this is an in sample estimate and may have very little resemblance to how the portfolio actually performs!"
   ]
  },
  {
   "cell_type": "code",
   "execution_count": 10,
   "metadata": {
    "colab": {
     "base_uri": "https://localhost:8080/"
    },
    "id": "ZnDm8UkC9nzJ",
    "outputId": "9302f8ed-698e-461b-c4a1-ad8113f1aa11"
   },
   "outputs": [
    {
     "name": "stdout",
     "output_type": "stream",
     "text": [
      "Annual volatility: 8.5%\n"
     ]
    }
   ],
   "source": [
    "ef.portfolio_performance(verbose=True);"
   ]
  },
  {
   "cell_type": "code",
   "execution_count": 72,
   "metadata": {
    "colab": {
     "base_uri": "https://localhost:8080/",
     "height": 692
    },
    "id": "aYa6yhWx9nzJ",
    "outputId": "0d5cf83b-05f5-44b4-92ae-8f2ab51f6a96"
   },
   "outputs": [
    {
     "data": {
      "text/html": [
       "\n",
       "  <div id=\"df-f194463e-dc4c-434c-8c86-ad1d07949b29\">\n",
       "    <div class=\"colab-df-container\">\n",
       "      <div>\n",
       "<style scoped>\n",
       "    .dataframe tbody tr th:only-of-type {\n",
       "        vertical-align: middle;\n",
       "    }\n",
       "\n",
       "    .dataframe tbody tr th {\n",
       "        vertical-align: top;\n",
       "    }\n",
       "\n",
       "    .dataframe thead th {\n",
       "        text-align: right;\n",
       "    }\n",
       "</style>\n",
       "<table border=\"1\" class=\"dataframe\">\n",
       "  <thead>\n",
       "    <tr style=\"text-align: right;\">\n",
       "      <th></th>\n",
       "      <th>ACN</th>\n",
       "      <th>AMZN</th>\n",
       "      <th>COST</th>\n",
       "      <th>DIS</th>\n",
       "      <th>F</th>\n",
       "      <th>GILD</th>\n",
       "      <th>JPM</th>\n",
       "      <th>KO</th>\n",
       "      <th>LUV</th>\n",
       "      <th>MA</th>\n",
       "      <th>MSFT</th>\n",
       "      <th>PFE</th>\n",
       "      <th>TSLA</th>\n",
       "      <th>UNH</th>\n",
       "      <th>XOM</th>\n",
       "    </tr>\n",
       "    <tr>\n",
       "      <th>Date</th>\n",
       "      <th></th>\n",
       "      <th></th>\n",
       "      <th></th>\n",
       "      <th></th>\n",
       "      <th></th>\n",
       "      <th></th>\n",
       "      <th></th>\n",
       "      <th></th>\n",
       "      <th></th>\n",
       "      <th></th>\n",
       "      <th></th>\n",
       "      <th></th>\n",
       "      <th></th>\n",
       "      <th></th>\n",
       "      <th></th>\n",
       "    </tr>\n",
       "  </thead>\n",
       "  <tbody>\n",
       "    <tr>\n",
       "      <th>1962-01-02</th>\n",
       "      <td>NaN</td>\n",
       "      <td>NaN</td>\n",
       "      <td>NaN</td>\n",
       "      <td>0.058398</td>\n",
       "      <td>NaN</td>\n",
       "      <td>NaN</td>\n",
       "      <td>NaN</td>\n",
       "      <td>0.051133</td>\n",
       "      <td>NaN</td>\n",
       "      <td>NaN</td>\n",
       "      <td>NaN</td>\n",
       "      <td>NaN</td>\n",
       "      <td>NaN</td>\n",
       "      <td>NaN</td>\n",
       "      <td>0.101854</td>\n",
       "    </tr>\n",
       "    <tr>\n",
       "      <th>1962-01-03</th>\n",
       "      <td>NaN</td>\n",
       "      <td>NaN</td>\n",
       "      <td>NaN</td>\n",
       "      <td>0.059182</td>\n",
       "      <td>NaN</td>\n",
       "      <td>NaN</td>\n",
       "      <td>NaN</td>\n",
       "      <td>0.049994</td>\n",
       "      <td>NaN</td>\n",
       "      <td>NaN</td>\n",
       "      <td>NaN</td>\n",
       "      <td>NaN</td>\n",
       "      <td>NaN</td>\n",
       "      <td>NaN</td>\n",
       "      <td>0.103367</td>\n",
       "    </tr>\n",
       "    <tr>\n",
       "      <th>1962-01-04</th>\n",
       "      <td>NaN</td>\n",
       "      <td>NaN</td>\n",
       "      <td>NaN</td>\n",
       "      <td>0.059182</td>\n",
       "      <td>NaN</td>\n",
       "      <td>NaN</td>\n",
       "      <td>NaN</td>\n",
       "      <td>0.050374</td>\n",
       "      <td>NaN</td>\n",
       "      <td>NaN</td>\n",
       "      <td>NaN</td>\n",
       "      <td>NaN</td>\n",
       "      <td>NaN</td>\n",
       "      <td>NaN</td>\n",
       "      <td>0.103619</td>\n",
       "    </tr>\n",
       "    <tr>\n",
       "      <th>1962-01-05</th>\n",
       "      <td>NaN</td>\n",
       "      <td>NaN</td>\n",
       "      <td>NaN</td>\n",
       "      <td>0.059378</td>\n",
       "      <td>NaN</td>\n",
       "      <td>NaN</td>\n",
       "      <td>NaN</td>\n",
       "      <td>0.049234</td>\n",
       "      <td>NaN</td>\n",
       "      <td>NaN</td>\n",
       "      <td>NaN</td>\n",
       "      <td>NaN</td>\n",
       "      <td>NaN</td>\n",
       "      <td>NaN</td>\n",
       "      <td>0.101350</td>\n",
       "    </tr>\n",
       "    <tr>\n",
       "      <th>1962-01-08</th>\n",
       "      <td>NaN</td>\n",
       "      <td>NaN</td>\n",
       "      <td>NaN</td>\n",
       "      <td>0.059182</td>\n",
       "      <td>NaN</td>\n",
       "      <td>NaN</td>\n",
       "      <td>NaN</td>\n",
       "      <td>0.048728</td>\n",
       "      <td>NaN</td>\n",
       "      <td>NaN</td>\n",
       "      <td>NaN</td>\n",
       "      <td>NaN</td>\n",
       "      <td>NaN</td>\n",
       "      <td>NaN</td>\n",
       "      <td>0.101098</td>\n",
       "    </tr>\n",
       "    <tr>\n",
       "      <th>...</th>\n",
       "      <td>...</td>\n",
       "      <td>...</td>\n",
       "      <td>...</td>\n",
       "      <td>...</td>\n",
       "      <td>...</td>\n",
       "      <td>...</td>\n",
       "      <td>...</td>\n",
       "      <td>...</td>\n",
       "      <td>...</td>\n",
       "      <td>...</td>\n",
       "      <td>...</td>\n",
       "      <td>...</td>\n",
       "      <td>...</td>\n",
       "      <td>...</td>\n",
       "      <td>...</td>\n",
       "    </tr>\n",
       "    <tr>\n",
       "      <th>2022-02-07</th>\n",
       "      <td>343.959991</td>\n",
       "      <td>3158.709961</td>\n",
       "      <td>515.890015</td>\n",
       "      <td>142.509995</td>\n",
       "      <td>17.889999</td>\n",
       "      <td>63.759998</td>\n",
       "      <td>153.070007</td>\n",
       "      <td>61.599998</td>\n",
       "      <td>44.599998</td>\n",
       "      <td>376.130005</td>\n",
       "      <td>300.950012</td>\n",
       "      <td>53.209999</td>\n",
       "      <td>907.340027</td>\n",
       "      <td>483.700012</td>\n",
       "      <td>81.486641</td>\n",
       "    </tr>\n",
       "    <tr>\n",
       "      <th>2022-02-08</th>\n",
       "      <td>345.070007</td>\n",
       "      <td>3228.270020</td>\n",
       "      <td>521.150024</td>\n",
       "      <td>142.479996</td>\n",
       "      <td>17.719999</td>\n",
       "      <td>63.700001</td>\n",
       "      <td>155.949997</td>\n",
       "      <td>62.000000</td>\n",
       "      <td>46.070000</td>\n",
       "      <td>374.369995</td>\n",
       "      <td>304.559998</td>\n",
       "      <td>51.700001</td>\n",
       "      <td>922.000000</td>\n",
       "      <td>493.410004</td>\n",
       "      <td>79.379997</td>\n",
       "    </tr>\n",
       "    <tr>\n",
       "      <th>2022-02-09</th>\n",
       "      <td>355.529999</td>\n",
       "      <td>3223.790039</td>\n",
       "      <td>528.830017</td>\n",
       "      <td>147.229996</td>\n",
       "      <td>18.350000</td>\n",
       "      <td>63.380001</td>\n",
       "      <td>156.600006</td>\n",
       "      <td>61.040001</td>\n",
       "      <td>47.020000</td>\n",
       "      <td>381.369995</td>\n",
       "      <td>311.209991</td>\n",
       "      <td>51.470001</td>\n",
       "      <td>932.000000</td>\n",
       "      <td>498.100006</td>\n",
       "      <td>79.000000</td>\n",
       "    </tr>\n",
       "    <tr>\n",
       "      <th>2022-02-10</th>\n",
       "      <td>342.390015</td>\n",
       "      <td>3180.070068</td>\n",
       "      <td>518.479980</td>\n",
       "      <td>152.160004</td>\n",
       "      <td>18.080000</td>\n",
       "      <td>61.790001</td>\n",
       "      <td>155.949997</td>\n",
       "      <td>61.380001</td>\n",
       "      <td>46.529999</td>\n",
       "      <td>374.390015</td>\n",
       "      <td>302.380005</td>\n",
       "      <td>50.599998</td>\n",
       "      <td>904.549988</td>\n",
       "      <td>486.720001</td>\n",
       "      <td>78.239998</td>\n",
       "    </tr>\n",
       "    <tr>\n",
       "      <th>2022-02-11</th>\n",
       "      <td>329.179993</td>\n",
       "      <td>3065.870117</td>\n",
       "      <td>509.670013</td>\n",
       "      <td>149.470001</td>\n",
       "      <td>17.549999</td>\n",
       "      <td>62.070000</td>\n",
       "      <td>153.919998</td>\n",
       "      <td>60.290001</td>\n",
       "      <td>45.529999</td>\n",
       "      <td>369.769989</td>\n",
       "      <td>295.040009</td>\n",
       "      <td>50.779999</td>\n",
       "      <td>860.000000</td>\n",
       "      <td>478.130005</td>\n",
       "      <td>80.209999</td>\n",
       "    </tr>\n",
       "  </tbody>\n",
       "</table>\n",
       "<p>15134 rows × 15 columns</p>\n",
       "</div>\n",
       "      <button class=\"colab-df-convert\" onclick=\"convertToInteractive('df-f194463e-dc4c-434c-8c86-ad1d07949b29')\"\n",
       "              title=\"Convert this dataframe to an interactive table.\"\n",
       "              style=\"display:none;\">\n",
       "        \n",
       "  <svg xmlns=\"http://www.w3.org/2000/svg\" height=\"24px\"viewBox=\"0 0 24 24\"\n",
       "       width=\"24px\">\n",
       "    <path d=\"M0 0h24v24H0V0z\" fill=\"none\"/>\n",
       "    <path d=\"M18.56 5.44l.94 2.06.94-2.06 2.06-.94-2.06-.94-.94-2.06-.94 2.06-2.06.94zm-11 1L8.5 8.5l.94-2.06 2.06-.94-2.06-.94L8.5 2.5l-.94 2.06-2.06.94zm10 10l.94 2.06.94-2.06 2.06-.94-2.06-.94-.94-2.06-.94 2.06-2.06.94z\"/><path d=\"M17.41 7.96l-1.37-1.37c-.4-.4-.92-.59-1.43-.59-.52 0-1.04.2-1.43.59L10.3 9.45l-7.72 7.72c-.78.78-.78 2.05 0 2.83L4 21.41c.39.39.9.59 1.41.59.51 0 1.02-.2 1.41-.59l7.78-7.78 2.81-2.81c.8-.78.8-2.07 0-2.86zM5.41 20L4 18.59l7.72-7.72 1.47 1.35L5.41 20z\"/>\n",
       "  </svg>\n",
       "      </button>\n",
       "      \n",
       "  <style>\n",
       "    .colab-df-container {\n",
       "      display:flex;\n",
       "      flex-wrap:wrap;\n",
       "      gap: 12px;\n",
       "    }\n",
       "\n",
       "    .colab-df-convert {\n",
       "      background-color: #E8F0FE;\n",
       "      border: none;\n",
       "      border-radius: 50%;\n",
       "      cursor: pointer;\n",
       "      display: none;\n",
       "      fill: #1967D2;\n",
       "      height: 32px;\n",
       "      padding: 0 0 0 0;\n",
       "      width: 32px;\n",
       "    }\n",
       "\n",
       "    .colab-df-convert:hover {\n",
       "      background-color: #E2EBFA;\n",
       "      box-shadow: 0px 1px 2px rgba(60, 64, 67, 0.3), 0px 1px 3px 1px rgba(60, 64, 67, 0.15);\n",
       "      fill: #174EA6;\n",
       "    }\n",
       "\n",
       "    [theme=dark] .colab-df-convert {\n",
       "      background-color: #3B4455;\n",
       "      fill: #D2E3FC;\n",
       "    }\n",
       "\n",
       "    [theme=dark] .colab-df-convert:hover {\n",
       "      background-color: #434B5C;\n",
       "      box-shadow: 0px 1px 3px 1px rgba(0, 0, 0, 0.15);\n",
       "      filter: drop-shadow(0px 1px 2px rgba(0, 0, 0, 0.3));\n",
       "      fill: #FFFFFF;\n",
       "    }\n",
       "  </style>\n",
       "\n",
       "      <script>\n",
       "        const buttonEl =\n",
       "          document.querySelector('#df-f194463e-dc4c-434c-8c86-ad1d07949b29 button.colab-df-convert');\n",
       "        buttonEl.style.display =\n",
       "          google.colab.kernel.accessAllowed ? 'block' : 'none';\n",
       "\n",
       "        async function convertToInteractive(key) {\n",
       "          const element = document.querySelector('#df-f194463e-dc4c-434c-8c86-ad1d07949b29');\n",
       "          const dataTable =\n",
       "            await google.colab.kernel.invokeFunction('convertToInteractive',\n",
       "                                                     [key], {});\n",
       "          if (!dataTable) return;\n",
       "\n",
       "          const docLinkHtml = 'Like what you see? Visit the ' +\n",
       "            '<a target=\"_blank\" href=https://colab.research.google.com/notebooks/data_table.ipynb>data table notebook</a>'\n",
       "            + ' to learn more about interactive tables.';\n",
       "          element.innerHTML = '';\n",
       "          dataTable['output_type'] = 'display_data';\n",
       "          await google.colab.output.renderOutput(dataTable, element);\n",
       "          const docLink = document.createElement('div');\n",
       "          docLink.innerHTML = docLinkHtml;\n",
       "          element.appendChild(docLink);\n",
       "        }\n",
       "      </script>\n",
       "    </div>\n",
       "  </div>\n",
       "  "
      ],
      "text/plain": [
       "                   ACN         AMZN  ...         UNH        XOM\n",
       "Date                                 ...                       \n",
       "1962-01-02         NaN          NaN  ...         NaN   0.101854\n",
       "1962-01-03         NaN          NaN  ...         NaN   0.103367\n",
       "1962-01-04         NaN          NaN  ...         NaN   0.103619\n",
       "1962-01-05         NaN          NaN  ...         NaN   0.101350\n",
       "1962-01-08         NaN          NaN  ...         NaN   0.101098\n",
       "...                ...          ...  ...         ...        ...\n",
       "2022-02-07  343.959991  3158.709961  ...  483.700012  81.486641\n",
       "2022-02-08  345.070007  3228.270020  ...  493.410004  79.379997\n",
       "2022-02-09  355.529999  3223.790039  ...  498.100006  79.000000\n",
       "2022-02-10  342.390015  3180.070068  ...  486.720001  78.239998\n",
       "2022-02-11  329.179993  3065.870117  ...  478.130005  80.209999\n",
       "\n",
       "[15134 rows x 15 columns]"
      ]
     },
     "execution_count": 72,
     "metadata": {},
     "output_type": "execute_result"
    }
   ],
   "source": [
    "prices"
   ]
  },
  {
   "cell_type": "markdown",
   "metadata": {
    "id": "ORCrBIG19nzK"
   },
   "source": [
    "Let's say we were happy with this portfolio and wanted to actually go out and buy the shares.  To do this, we would need to construct a **discrete allocation** (unless your broker supports fractional shares!)\n",
    "\n",
    "If we had \\$20,0000 to invest and would like our portfolio to be 130/30 long/short, we can construct the actual allocation as follows:"
   ]
  },
  {
   "cell_type": "code",
   "execution_count": 73,
   "metadata": {
    "colab": {
     "base_uri": "https://localhost:8080/"
    },
    "id": "w10Rcb-X9nzK",
    "outputId": "052edfa3-7811-459c-debb-644dc7aa2368"
   },
   "outputs": [
    {
     "name": "stdout",
     "output_type": "stream",
     "text": [
      "Discrete allocation performed with $35.89 leftover\n"
     ]
    },
    {
     "data": {
      "text/plain": [
       "{'ACN': 13,\n",
       " 'COST': 4,\n",
       " 'DIS': -8,\n",
       " 'F': -70,\n",
       " 'GILD': 13,\n",
       " 'JPM': -23,\n",
       " 'KO': 38,\n",
       " 'LUV': 10,\n",
       " 'MA': 12,\n",
       " 'PFE': 25,\n",
       " 'TSLA': 3,\n",
       " 'UNH': 1,\n",
       " 'XOM': 17}"
      ]
     },
     "execution_count": 73,
     "metadata": {},
     "output_type": "execute_result"
    }
   ],
   "source": [
    "from pypfopt import DiscreteAllocation\n",
    "\n",
    "latest_prices = prices.iloc[-1]  # prices as of the day you are allocating\n",
    "da = DiscreteAllocation(weights, latest_prices, total_portfolio_value=20000, short_ratio=0.3)\n",
    "alloc, leftover = da.lp_portfolio()\n",
    "print(f\"Discrete allocation performed with ${leftover:.2f} leftover\")\n",
    "alloc"
   ]
  },
  {
   "cell_type": "markdown",
   "metadata": {
    "id": "ab3Rk-Aa9nzK"
   },
   "source": [
    "## Max Sharpe with sector constraints\n",
    "\n",
    "If you have your own model for returns (or have read the warnings and want to proceed anyways), you may consider maximising the Sharpe ratio. This theoretically gives the optimal portfolio in terms of risks-returns.\n",
    "\n",
    "In this section, we construct a long-only max-sharpe portfolio, but also incorporate sector constraints. Sector constraints require three things. A `sector_mapper`, your `sector_lower` bounds, and your `sector_upper` bounds."
   ]
  },
  {
   "cell_type": "code",
   "execution_count": 74,
   "metadata": {
    "id": "mJcyi2-E9nzK"
   },
   "outputs": [],
   "source": [
    "sector_mapper = {\n",
    "    \"MSFT\": \"Tech\",\n",
    "    \"AMZN\": \"Consumer Discretionary\",\n",
    "    \"KO\": \"Consumer Staples\",\n",
    "    \"MA\": \"Financial Services\",\n",
    "    \"COST\": \"Consumer Staples\",\n",
    "    \"LUV\": \"Aerospace\",\n",
    "    \"XOM\": \"Energy\",\n",
    "    \"PFE\": \"Healthcare\",\n",
    "    \"JPM\": \"Financial Services\",\n",
    "    \"UNH\": \"Healthcare\",\n",
    "    \"ACN\": \"Misc\",\n",
    "    \"DIS\": \"Media\",\n",
    "    \"GILD\": \"Healthcare\",\n",
    "    \"F\": \"Auto\",\n",
    "    \"TSLA\": \"Auto\"\n",
    "}\n",
    "\n",
    "sector_lower = {\n",
    "    \"Consumer Staples\": 0.1, # at least 10% to staples\n",
    "    \"Tech\": 0.05 # at least 5% to tech\n",
    "    # For all other sectors, it will be assumed there is no lower bound\n",
    "}\n",
    "\n",
    "sector_upper = {\n",
    "    \"Tech\": 0.2,\n",
    "    \"Aerospace\":0.1,\n",
    "    \"Energy\": 0.1,\n",
    "    \"Auto\":0.15\n",
    "}"
   ]
  },
  {
   "cell_type": "markdown",
   "metadata": {
    "id": "1h5ZdZwF9nzL"
   },
   "source": [
    "We then set up the optimizer and add our constraints. We can use `ef.add_objective()` to add other constraints. For example, let's say that in addition to the above sector constraints, I specifically want:\n",
    "\n",
    "- 10% of the portfolio in AMZN\n",
    "- Less than 5% of my portfolio in TSLA"
   ]
  },
  {
   "cell_type": "code",
   "execution_count": 75,
   "metadata": {
    "id": "FRjwf0wN9nzL"
   },
   "outputs": [],
   "source": [
    "mu = expected_returns.capm_return(prices)\n",
    "S = risk_models.CovarianceShrinkage(prices).ledoit_wolf()\n",
    "\n",
    "ef = EfficientFrontier(mu, S)  # weight_bounds automatically set to (0, 1)\n",
    "ef.add_sector_constraints(sector_mapper, sector_lower, sector_upper)\n",
    "\n",
    "amzn_index = ef.tickers.index(\"AMZN\")\n",
    "ef.add_constraint(lambda w: w[amzn_index] == 0.10)\n",
    "\n",
    "tsla_index = ef.tickers.index(\"TSLA\")\n",
    "ef.add_constraint(lambda w: w[tsla_index] <= 0.05)\n",
    "\n",
    "ef.add_constraint(lambda w: w[10] >= 0.05)\n",
    "\n",
    "ef.max_sharpe()\n",
    "weights = ef.clean_weights()"
   ]
  },
  {
   "cell_type": "code",
   "execution_count": 76,
   "metadata": {
    "colab": {
     "base_uri": "https://localhost:8080/"
    },
    "id": "pZAu8ypG9nzL",
    "outputId": "2a3703a8-bbd0-468d-f0c6-25be50f7b0c7"
   },
   "outputs": [
    {
     "data": {
      "text/plain": [
       "OrderedDict([('ACN', 0.17008),\n",
       "             ('AMZN', 0.1),\n",
       "             ('COST', 0.05561),\n",
       "             ('DIS', 0.0),\n",
       "             ('F', 0.0),\n",
       "             ('GILD', 0.06237),\n",
       "             ('JPM', 0.0),\n",
       "             ('KO', 0.04439),\n",
       "             ('LUV', 0.0232),\n",
       "             ('MA', 0.38482),\n",
       "             ('MSFT', 0.05),\n",
       "             ('PFE', 0.02564),\n",
       "             ('TSLA', 0.05),\n",
       "             ('UNH', 0.0339),\n",
       "             ('XOM', 0.0)])"
      ]
     },
     "execution_count": 76,
     "metadata": {},
     "output_type": "execute_result"
    }
   ],
   "source": [
    "weights"
   ]
  },
  {
   "cell_type": "code",
   "execution_count": 11,
   "metadata": {
    "colab": {
     "base_uri": "https://localhost:8080/",
     "height": 575
    },
    "id": "izbZQ6-G9nzL",
    "outputId": "1aafb3d3-a32b-469e-e702-6044c7f54116"
   },
   "outputs": [
    {
     "ename": "ValueError",
     "evalue": "pie plot doesn't allow negative values",
     "output_type": "error",
     "traceback": [
      "\u001b[1;31m---------------------------------------------------------------------------\u001b[0m",
      "\u001b[1;31mValueError\u001b[0m                                Traceback (most recent call last)",
      "Cell \u001b[1;32mIn[11], line 1\u001b[0m\n\u001b[1;32m----> 1\u001b[0m \u001b[43mpd\u001b[49m\u001b[38;5;241;43m.\u001b[39;49m\u001b[43mSeries\u001b[49m\u001b[43m(\u001b[49m\u001b[43mweights\u001b[49m\u001b[43m)\u001b[49m\u001b[38;5;241;43m.\u001b[39;49m\u001b[43mplot\u001b[49m\u001b[38;5;241;43m.\u001b[39;49m\u001b[43mpie\u001b[49m\u001b[43m(\u001b[49m\u001b[43mfigsize\u001b[49m\u001b[38;5;241;43m=\u001b[39;49m\u001b[43m(\u001b[49m\u001b[38;5;241;43m10\u001b[39;49m\u001b[43m,\u001b[49m\u001b[38;5;241;43m10\u001b[39;49m\u001b[43m)\u001b[49m\u001b[43m)\u001b[49m;\n",
      "File \u001b[1;32mc:\\Users\\versu\\anaconda3\\envs\\Thesis\\lib\\site-packages\\pandas\\plotting\\_core.py:1658\u001b[0m, in \u001b[0;36mPlotAccessor.pie\u001b[1;34m(self, **kwargs)\u001b[0m\n\u001b[0;32m   1652\u001b[0m \u001b[38;5;28;01mif\u001b[39;00m (\n\u001b[0;32m   1653\u001b[0m     \u001b[38;5;28misinstance\u001b[39m(\u001b[38;5;28mself\u001b[39m\u001b[38;5;241m.\u001b[39m_parent, ABCDataFrame)\n\u001b[0;32m   1654\u001b[0m     \u001b[38;5;129;01mand\u001b[39;00m kwargs\u001b[38;5;241m.\u001b[39mget(\u001b[38;5;124m\"\u001b[39m\u001b[38;5;124my\u001b[39m\u001b[38;5;124m\"\u001b[39m, \u001b[38;5;28;01mNone\u001b[39;00m) \u001b[38;5;129;01mis\u001b[39;00m \u001b[38;5;28;01mNone\u001b[39;00m\n\u001b[0;32m   1655\u001b[0m     \u001b[38;5;129;01mand\u001b[39;00m \u001b[38;5;129;01mnot\u001b[39;00m kwargs\u001b[38;5;241m.\u001b[39mget(\u001b[38;5;124m\"\u001b[39m\u001b[38;5;124msubplots\u001b[39m\u001b[38;5;124m\"\u001b[39m, \u001b[38;5;28;01mFalse\u001b[39;00m)\n\u001b[0;32m   1656\u001b[0m ):\n\u001b[0;32m   1657\u001b[0m     \u001b[38;5;28;01mraise\u001b[39;00m \u001b[38;5;167;01mValueError\u001b[39;00m(\u001b[38;5;124m\"\u001b[39m\u001b[38;5;124mpie requires either y column or \u001b[39m\u001b[38;5;124m'\u001b[39m\u001b[38;5;124msubplots=True\u001b[39m\u001b[38;5;124m'\u001b[39m\u001b[38;5;124m\"\u001b[39m)\n\u001b[1;32m-> 1658\u001b[0m \u001b[38;5;28;01mreturn\u001b[39;00m \u001b[38;5;28mself\u001b[39m(kind\u001b[38;5;241m=\u001b[39m\u001b[38;5;124m\"\u001b[39m\u001b[38;5;124mpie\u001b[39m\u001b[38;5;124m\"\u001b[39m, \u001b[38;5;241m*\u001b[39m\u001b[38;5;241m*\u001b[39mkwargs)\n",
      "File \u001b[1;32mc:\\Users\\versu\\anaconda3\\envs\\Thesis\\lib\\site-packages\\pandas\\plotting\\_core.py:1030\u001b[0m, in \u001b[0;36mPlotAccessor.__call__\u001b[1;34m(self, *args, **kwargs)\u001b[0m\n\u001b[0;32m   1027\u001b[0m             label_name \u001b[38;5;241m=\u001b[39m label_kw \u001b[38;5;129;01mor\u001b[39;00m data\u001b[38;5;241m.\u001b[39mcolumns\n\u001b[0;32m   1028\u001b[0m             data\u001b[38;5;241m.\u001b[39mcolumns \u001b[38;5;241m=\u001b[39m label_name\n\u001b[1;32m-> 1030\u001b[0m \u001b[38;5;28;01mreturn\u001b[39;00m plot_backend\u001b[38;5;241m.\u001b[39mplot(data, kind\u001b[38;5;241m=\u001b[39mkind, \u001b[38;5;241m*\u001b[39m\u001b[38;5;241m*\u001b[39mkwargs)\n",
      "File \u001b[1;32mc:\\Users\\versu\\anaconda3\\envs\\Thesis\\lib\\site-packages\\pandas\\plotting\\_matplotlib\\__init__.py:70\u001b[0m, in \u001b[0;36mplot\u001b[1;34m(data, kind, **kwargs)\u001b[0m\n\u001b[0;32m     68\u001b[0m             ax \u001b[38;5;241m=\u001b[39m plt\u001b[38;5;241m.\u001b[39mgca()\n\u001b[0;32m     69\u001b[0m         kwargs[\u001b[38;5;124m\"\u001b[39m\u001b[38;5;124max\u001b[39m\u001b[38;5;124m\"\u001b[39m] \u001b[38;5;241m=\u001b[39m \u001b[38;5;28mgetattr\u001b[39m(ax, \u001b[38;5;124m\"\u001b[39m\u001b[38;5;124mleft_ax\u001b[39m\u001b[38;5;124m\"\u001b[39m, ax)\n\u001b[1;32m---> 70\u001b[0m plot_obj \u001b[38;5;241m=\u001b[39m PLOT_CLASSES[kind](data, \u001b[38;5;241m*\u001b[39m\u001b[38;5;241m*\u001b[39mkwargs)\n\u001b[0;32m     71\u001b[0m plot_obj\u001b[38;5;241m.\u001b[39mgenerate()\n\u001b[0;32m     72\u001b[0m plot_obj\u001b[38;5;241m.\u001b[39mdraw()\n",
      "File \u001b[1;32mc:\\Users\\versu\\anaconda3\\envs\\Thesis\\lib\\site-packages\\pandas\\plotting\\_matplotlib\\core.py:2052\u001b[0m, in \u001b[0;36mPiePlot.__init__\u001b[1;34m(self, data, kind, **kwargs)\u001b[0m\n\u001b[0;32m   2050\u001b[0m data \u001b[38;5;241m=\u001b[39m data\u001b[38;5;241m.\u001b[39mfillna(value\u001b[38;5;241m=\u001b[39m\u001b[38;5;241m0\u001b[39m)\n\u001b[0;32m   2051\u001b[0m \u001b[38;5;28;01mif\u001b[39;00m (data \u001b[38;5;241m<\u001b[39m \u001b[38;5;241m0\u001b[39m)\u001b[38;5;241m.\u001b[39many()\u001b[38;5;241m.\u001b[39many():\n\u001b[1;32m-> 2052\u001b[0m     \u001b[38;5;28;01mraise\u001b[39;00m \u001b[38;5;167;01mValueError\u001b[39;00m(\u001b[38;5;124mf\u001b[39m\u001b[38;5;124m\"\u001b[39m\u001b[38;5;132;01m{\u001b[39;00m\u001b[38;5;28mself\u001b[39m\u001b[38;5;241m.\u001b[39m_kind\u001b[38;5;132;01m}\u001b[39;00m\u001b[38;5;124m plot doesn\u001b[39m\u001b[38;5;124m'\u001b[39m\u001b[38;5;124mt allow negative values\u001b[39m\u001b[38;5;124m\"\u001b[39m)\n\u001b[0;32m   2053\u001b[0m MPLPlot\u001b[38;5;241m.\u001b[39m\u001b[38;5;21m__init__\u001b[39m(\u001b[38;5;28mself\u001b[39m, data, kind\u001b[38;5;241m=\u001b[39mkind, \u001b[38;5;241m*\u001b[39m\u001b[38;5;241m*\u001b[39mkwargs)\n",
      "\u001b[1;31mValueError\u001b[0m: pie plot doesn't allow negative values"
     ]
    }
   ],
   "source": [
    "pd.Series(weights).plot.pie(figsize=(10,10));"
   ]
  },
  {
   "cell_type": "markdown",
   "metadata": {
    "id": "kGa9xMQ19nzM"
   },
   "source": [
    "We can immediately see that our explicit constraints were satisfied, and can check all the sector constraints as follows:\n"
   ]
  },
  {
   "cell_type": "code",
   "execution_count": 78,
   "metadata": {
    "colab": {
     "base_uri": "https://localhost:8080/"
    },
    "id": "JtA8KzWp9nzM",
    "outputId": "cd007325-fa24-4f41-f8fa-3d149ae7fc23"
   },
   "outputs": [
    {
     "name": "stdout",
     "output_type": "stream",
     "text": [
      "Consumer Discretionary: 0.100\n",
      "Financial Services: 0.385\n",
      "Misc: 0.170\n",
      "Consumer Staples: 0.100\n",
      "Tech: 0.050\n",
      "Energy: 0.000\n",
      "Aerospace: 0.023\n",
      "Auto: 0.050\n",
      "Healthcare: 0.122\n",
      "Media: 0.000\n"
     ]
    }
   ],
   "source": [
    "# O(N^2) loop not a good idea in a coding interview :)\n",
    "for sector in set(sector_mapper.values()):\n",
    "    total_weight = 0\n",
    "    for t,w in weights.items():\n",
    "        if sector_mapper[t] == sector:\n",
    "            total_weight += w\n",
    "    print(f\"{sector}: {total_weight:.3f}\")"
   ]
  },
  {
   "cell_type": "markdown",
   "metadata": {
    "id": "qOZ-z4AK9nzM"
   },
   "source": [
    "## Maximise return for a given risk, with L2 regularisation\n",
    "\n",
    "Let's imagine that we've put a lot of thought into our risk tolerance, and have decided that we can't accept anything more than 15% volatility. We can use PyPortfolioOpt to construct a portfolio that maximises return for a given risk (with the same caveats about expected returns)."
   ]
  },
  {
   "cell_type": "code",
   "execution_count": 79,
   "metadata": {
    "colab": {
     "base_uri": "https://localhost:8080/"
    },
    "id": "sKantkrg9nzM",
    "outputId": "3b60679f-80ef-4ec7-e029-989ef9d27f14"
   },
   "outputs": [
    {
     "data": {
      "text/plain": [
       "OrderedDict([('ACN', 0.0),\n",
       "             ('AMZN', 0.18686),\n",
       "             ('COST', 0.1),\n",
       "             ('DIS', 0.0),\n",
       "             ('F', 0.0),\n",
       "             ('GILD', 0.0642),\n",
       "             ('JPM', 0.0),\n",
       "             ('KO', 0.0),\n",
       "             ('LUV', 0.0),\n",
       "             ('MA', 0.44753),\n",
       "             ('MSFT', 0.05),\n",
       "             ('PFE', 0.0),\n",
       "             ('TSLA', 0.15),\n",
       "             ('UNH', 0.00141),\n",
       "             ('XOM', 0.0)])"
      ]
     },
     "execution_count": 79,
     "metadata": {},
     "output_type": "execute_result"
    }
   ],
   "source": [
    "ef = EfficientFrontier(mu, S)\n",
    "ef.add_sector_constraints(sector_mapper, sector_lower, sector_upper)\n",
    "ef.efficient_risk(target_volatility=0.15)\n",
    "weights = ef.clean_weights()\n",
    "weights"
   ]
  },
  {
   "cell_type": "code",
   "execution_count": 80,
   "metadata": {
    "colab": {
     "base_uri": "https://localhost:8080/"
    },
    "id": "46ylv28y9nzM",
    "outputId": "de8f0548-437e-4997-cc46-d927d5f61df2"
   },
   "outputs": [
    {
     "name": "stdout",
     "output_type": "stream",
     "text": [
      "8/15 tickers have zero weight\n"
     ]
    }
   ],
   "source": [
    "num_small = len([k for k in weights if weights[k] <= 1e-4])\n",
    "print(f\"{num_small}/{len(ef.tickers)} tickers have zero weight\")"
   ]
  },
  {
   "cell_type": "code",
   "execution_count": 81,
   "metadata": {
    "colab": {
     "base_uri": "https://localhost:8080/"
    },
    "id": "3HWpBJxZ9nzM",
    "outputId": "cae10c97-978e-40ee-8dd5-796d9635f53f"
   },
   "outputs": [
    {
     "name": "stdout",
     "output_type": "stream",
     "text": [
      "Expected annual return: 27.5%\n",
      "Annual volatility: 15.0%\n",
      "Sharpe Ratio: 1.70\n"
     ]
    }
   ],
   "source": [
    "ef.portfolio_performance(verbose=True);"
   ]
  },
  {
   "cell_type": "markdown",
   "metadata": {
    "id": "sFdT8Xar9nzN"
   },
   "source": [
    "While this portfolio seems like it meets our objectives, we might be worried by the fact that a lot of the tickers have been assigned zero weight. In effect, the optimizer is \"overfitting\" to the data you have provided -- you are much more likely to get better results by enforcing some level of diversification. One way of doing this is to use **L2 regularisation** – essentially, adding a penalty on the number of near-zero weights."
   ]
  },
  {
   "cell_type": "code",
   "execution_count": 82,
   "metadata": {
    "colab": {
     "base_uri": "https://localhost:8080/"
    },
    "id": "wiaa_L2u9nzN",
    "outputId": "0adbf717-faaa-4142-9fe3-6ca9368cc23f"
   },
   "outputs": [
    {
     "data": {
      "text/plain": [
       "OrderedDict([('ACN', 0.04658),\n",
       "             ('AMZN', 0.20432),\n",
       "             ('COST', 0.08843),\n",
       "             ('DIS', 0.01432),\n",
       "             ('F', 0.0),\n",
       "             ('GILD', 0.0832),\n",
       "             ('JPM', 0.04714),\n",
       "             ('KO', 0.01157),\n",
       "             ('LUV', 0.03085),\n",
       "             ('MA', 0.23886),\n",
       "             ('MSFT', 0.05),\n",
       "             ('PFE', 0.0),\n",
       "             ('TSLA', 0.15),\n",
       "             ('UNH', 0.03473),\n",
       "             ('XOM', 0.0)])"
      ]
     },
     "execution_count": 82,
     "metadata": {},
     "output_type": "execute_result"
    }
   ],
   "source": [
    "from pypfopt import objective_functions\n",
    "\n",
    "# You must always create a new efficient frontier object\n",
    "ef = EfficientFrontier(mu, S)\n",
    "ef.add_sector_constraints(sector_mapper, sector_lower, sector_upper)\n",
    "ef.add_objective(objective_functions.L2_reg, gamma=0.1)  # gamma is the tuning parameter\n",
    "ef.efficient_risk(0.15)\n",
    "weights = ef.clean_weights()\n",
    "weights"
   ]
  },
  {
   "cell_type": "code",
   "execution_count": 83,
   "metadata": {
    "colab": {
     "base_uri": "https://localhost:8080/"
    },
    "id": "G0ZO5l4D9nzN",
    "outputId": "aefa431d-90b2-493b-8232-8dc8c8213212"
   },
   "outputs": [
    {
     "name": "stdout",
     "output_type": "stream",
     "text": [
      "3/15 tickers have zero weight\n"
     ]
    }
   ],
   "source": [
    "num_small = len([k for k in weights if weights[k] <= 1e-4])\n",
    "print(f\"{num_small}/{len(ef.tickers)} tickers have zero weight\")"
   ]
  },
  {
   "cell_type": "markdown",
   "metadata": {
    "id": "n8yo6ey19nzN"
   },
   "source": [
    "We can tune the value of gamma to choose the number of nonzero tickers. Larger gamma pulls portfolio weights towards an equal allocation."
   ]
  },
  {
   "cell_type": "code",
   "execution_count": 84,
   "metadata": {
    "colab": {
     "base_uri": "https://localhost:8080/"
    },
    "id": "hIdHgQnE9nzO",
    "outputId": "76b74cec-dbad-4278-ad5c-6a3bb99b404d"
   },
   "outputs": [
    {
     "data": {
      "text/plain": [
       "OrderedDict([('ACN', 0.05538),\n",
       "             ('AMZN', 0.12987),\n",
       "             ('COST', 0.06147),\n",
       "             ('DIS', 0.06366),\n",
       "             ('F', 0.06115),\n",
       "             ('GILD', 0.07939),\n",
       "             ('JPM', 0.07801),\n",
       "             ('KO', 0.03853),\n",
       "             ('LUV', 0.06535),\n",
       "             ('MA', 0.08213),\n",
       "             ('MSFT', 0.07096),\n",
       "             ('PFE', 0.04078),\n",
       "             ('TSLA', 0.08885),\n",
       "             ('UNH', 0.06216),\n",
       "             ('XOM', 0.0223)])"
      ]
     },
     "execution_count": 84,
     "metadata": {},
     "output_type": "execute_result"
    }
   ],
   "source": [
    "ef = EfficientFrontier(mu, S)\n",
    "ef.add_sector_constraints(sector_mapper, sector_lower, sector_upper)\n",
    "ef.add_objective(objective_functions.L2_reg, gamma=1)  # gamma is the tuning parameter\n",
    "ef.efficient_risk(0.15)\n",
    "weights = ef.clean_weights()\n",
    "weights"
   ]
  },
  {
   "cell_type": "code",
   "execution_count": 85,
   "metadata": {
    "colab": {
     "base_uri": "https://localhost:8080/",
     "height": 575
    },
    "id": "p0DzMHim9nzO",
    "outputId": "baaaab0c-4bee-4883-c0fb-70b4d650ef90"
   },
   "outputs": [
    {
     "data": {
      "image/png": "[encoded data removed]",
      "text/plain": [
       "<Figure size 720x720 with 1 Axes>"
      ]
     },
     "metadata": {},
     "output_type": "display_data"
    }
   ],
   "source": [
    "pd.Series(weights).plot.pie(figsize=(10, 10));"
   ]
  },
  {
   "cell_type": "code",
   "execution_count": 86,
   "metadata": {
    "colab": {
     "base_uri": "https://localhost:8080/"
    },
    "id": "zFLNfMLr9nzO",
    "outputId": "69c1cead-6233-465a-a3c3-6c5def23d624"
   },
   "outputs": [
    {
     "name": "stdout",
     "output_type": "stream",
     "text": [
      "Expected annual return: 24.7%\n",
      "Annual volatility: 14.8%\n",
      "Sharpe Ratio: 1.53\n"
     ]
    }
   ],
   "source": [
    "ef.portfolio_performance(verbose=True);"
   ]
  },
  {
   "cell_type": "markdown",
   "metadata": {
    "id": "wggcvvSR9nzO"
   },
   "source": [
    "The resulting portfolio still has a volatility of less than our 15% limit. It's in-sample Sharpe ratio has gone down, but this portfolio is a lot more robust for actual investment."
   ]
  },
  {
   "cell_type": "markdown",
   "metadata": {
    "id": "Q1r-Z6ws9nzO"
   },
   "source": [
    "## Minimise risk for a given return, market-neutral\n",
    "\n",
    "We may instead be in the situation where we have a certain required rate of return (maybe we are a pension fund that needs 7% return a year), but would like to minimise risk. Additionally, suppose we would like our portfolio to be market neutral, in the sense that it is equally exposed to the long and short sides.  "
   ]
  },
  {
   "cell_type": "code",
   "execution_count": 87,
   "metadata": {
    "colab": {
     "base_uri": "https://localhost:8080/"
    },
    "id": "XB4Cw8at9nzO",
    "outputId": "26404432-1324-435e-cde0-c28a242a571e"
   },
   "outputs": [
    {
     "data": {
      "text/plain": [
       "OrderedDict([('ACN', -0.03775),\n",
       "             ('AMZN', 0.22059),\n",
       "             ('COST', -0.06087),\n",
       "             ('DIS', -0.00219),\n",
       "             ('F', -0.00302),\n",
       "             ('GILD', 0.04782),\n",
       "             ('JPM', 0.04736),\n",
       "             ('KO', -0.1412),\n",
       "             ('LUV', 0.00141),\n",
       "             ('MA', 0.06322),\n",
       "             ('MSFT', 0.02031),\n",
       "             ('PFE', -0.08583),\n",
       "             ('TSLA', 0.09499),\n",
       "             ('UNH', -0.00931),\n",
       "             ('XOM', -0.15554)])"
      ]
     },
     "execution_count": 87,
     "metadata": {},
     "output_type": "execute_result"
    }
   ],
   "source": [
    "# Must have no weight bounds to allow shorts\n",
    "ef = EfficientFrontier(mu, S, weight_bounds=(None, None))\n",
    "ef.add_objective(objective_functions.L2_reg)\n",
    "ef.efficient_return(target_return=0.07, market_neutral=True)\n",
    "weights = ef.clean_weights()\n",
    "weights"
   ]
  },
  {
   "cell_type": "code",
   "execution_count": 88,
   "metadata": {
    "colab": {
     "base_uri": "https://localhost:8080/"
    },
    "id": "Uf3oUKFP9nzO",
    "outputId": "aa726cf0-1200-4fa9-f61d-ca5807679a34"
   },
   "outputs": [
    {
     "name": "stdout",
     "output_type": "stream",
     "text": [
      "Expected annual return: 7.0%\n",
      "Annual volatility: 10.6%\n",
      "Sharpe Ratio: 0.47\n"
     ]
    }
   ],
   "source": [
    "ef.portfolio_performance(verbose=True);"
   ]
  },
  {
   "cell_type": "code",
   "execution_count": 89,
   "metadata": {
    "colab": {
     "base_uri": "https://localhost:8080/",
     "height": 374
    },
    "id": "4rrQKk1Q9nzP",
    "outputId": "95a52da6-37ed-4dad-cd5b-2701affa6695"
   },
   "outputs": [
    {
     "data": {
      "image/png": "[encoded data removed]",
      "text/plain": [
       "<Figure size 720x432 with 1 Axes>"
      ]
     },
     "metadata": {
      "needs_background": "light"
     },
     "output_type": "display_data"
    }
   ],
   "source": [
    "pd.Series(weights).plot.barh(figsize=(10,6));"
   ]
  },
  {
   "cell_type": "code",
   "execution_count": 90,
   "metadata": {
    "colab": {
     "base_uri": "https://localhost:8080/"
    },
    "id": "YwR1iKqv9nzP",
    "outputId": "478e0b8b-c1ed-4826-a1bc-1ad928927123"
   },
   "outputs": [
    {
     "name": "stdout",
     "output_type": "stream",
     "text": [
      "Net weight: -0.00\n"
     ]
    }
   ],
   "source": [
    "print(f\"Net weight: {sum(weights.values()):.2f}\")"
   ]
  },
  {
   "cell_type": "markdown",
   "metadata": {
    "id": "PBvVeqtm9nzP"
   },
   "source": [
    "## Efficient semi-variance optimization\n",
    "\n",
    "In this example, we will minimise the portfolio semivariance (i.e downside volatility) subject to a return constraint (target 20%).\n",
    "\n",
    "There are actually two ways of doing this in PyPortfolioOpt. The first is the \"intuitive\" way. We compute a semicovariance matrix, and pass this into `EfficientFrontier` (just like we would do for the exponential cov matrix or the Ledoit-Wolf shrunk matrix)."
   ]
  },
  {
   "cell_type": "code",
   "execution_count": 91,
   "metadata": {
    "colab": {
     "base_uri": "https://localhost:8080/",
     "height": 0
    },
    "id": "8FsS5Yqu9nzP",
    "outputId": "94948fd4-598a-4fa7-a41a-371fbda43f43"
   },
   "outputs": [
    {
     "data": {
      "image/png": "[encoded data removed]",
      "text/plain": [
       "<Figure size 432x288 with 2 Axes>"
      ]
     },
     "metadata": {
      "needs_background": "light"
     },
     "output_type": "display_data"
    }
   ],
   "source": [
    "semicov = risk_models.semicovariance(prices, benchmark=0)\n",
    "plotting.plot_covariance(semicov);"
   ]
  },
  {
   "cell_type": "code",
   "execution_count": 92,
   "metadata": {
    "colab": {
     "base_uri": "https://localhost:8080/"
    },
    "id": "cK0NfwQ69nzP",
    "outputId": "16b22337-b5ac-42cc-fe4c-8543d96275fd"
   },
   "outputs": [
    {
     "data": {
      "text/plain": [
       "OrderedDict([('ACN', 0.25802),\n",
       "             ('AMZN', 0.0),\n",
       "             ('COST', 0.08907),\n",
       "             ('DIS', 0.0),\n",
       "             ('F', 0.0),\n",
       "             ('GILD', 0.0098),\n",
       "             ('JPM', 0.0),\n",
       "             ('KO', 0.1331),\n",
       "             ('LUV', 0.0),\n",
       "             ('MA', 0.30826),\n",
       "             ('MSFT', 0.0),\n",
       "             ('PFE', 0.04855),\n",
       "             ('TSLA', 0.14339),\n",
       "             ('UNH', 0.0),\n",
       "             ('XOM', 0.00981)])"
      ]
     },
     "execution_count": 92,
     "metadata": {},
     "output_type": "execute_result"
    }
   ],
   "source": [
    "ef = EfficientFrontier(mu, semicov)\n",
    "ef.efficient_return(0.2)\n",
    "weights = ef.clean_weights()\n",
    "weights\n"
   ]
  },
  {
   "cell_type": "code",
   "execution_count": 93,
   "metadata": {
    "colab": {
     "base_uri": "https://localhost:8080/"
    },
    "id": "TUmSYq629nzP",
    "outputId": "62eba498-9e70-41b9-c361-5ad7f7814348"
   },
   "outputs": [
    {
     "name": "stdout",
     "output_type": "stream",
     "text": [
      "Expected annual return: 22.5%\n",
      "Annual volatility: 9.0%\n",
      "Sharpe Ratio: 2.29\n"
     ]
    }
   ],
   "source": [
    "ef.portfolio_performance(verbose=True);"
   ]
  },
  {
   "cell_type": "markdown",
   "metadata": {
    "id": "3ZZeruY69nzP"
   },
   "source": [
    "However, this solution is not truly optimal in mean-semivariance space. To do the optimization properly, we must use the `EfficientSemivariance` class. This requires us to first compute the returns and drop NaNs."
   ]
  },
  {
   "cell_type": "code",
   "execution_count": 94,
   "metadata": {
    "id": "1qGD5WW69nzQ"
   },
   "outputs": [],
   "source": [
    "returns = expected_returns.returns_from_prices(prices)\n",
    "returns = returns.dropna()"
   ]
  },
  {
   "cell_type": "code",
   "execution_count": 95,
   "metadata": {
    "colab": {
     "base_uri": "https://localhost:8080/"
    },
    "id": "Tyeys0NY9nzQ",
    "outputId": "bf3aa95f-99ab-4410-e9f9-c04e10bf82eb"
   },
   "outputs": [
    {
     "name": "stdout",
     "output_type": "stream",
     "text": [
      "Expected annual return: 20.0%\n",
      "Annual semi-deviation: 10.1%\n",
      "Sortino Ratio: 1.78\n"
     ]
    }
   ],
   "source": [
    "from pypfopt import EfficientSemivariance\n",
    "\n",
    "es = EfficientSemivariance(mu, returns)\n",
    "es.efficient_return(0.2)\n",
    "es.portfolio_performance(verbose=True);\n"
   ]
  },
  {
   "cell_type": "markdown",
   "metadata": {
    "id": "6g-7u4YA9nzQ"
   },
   "source": [
    "To compare this with the heuristic solution, I will use a quick hack: replacing the `es.weights` with `es.weights` and running `es.portfolio_performance` again. Please don't be encouraged to do this in real life!"
   ]
  },
  {
   "cell_type": "code",
   "execution_count": 96,
   "metadata": {
    "colab": {
     "base_uri": "https://localhost:8080/"
    },
    "id": "6jLzfOCj9nzQ",
    "outputId": "ba8f4fcc-882a-4764-b0b8-e3906677dbd7"
   },
   "outputs": [
    {
     "name": "stdout",
     "output_type": "stream",
     "text": [
      "Expected annual return: 22.5%\n",
      "Annual semi-deviation: 14.0%\n",
      "Sortino Ratio: 1.47\n"
     ]
    }
   ],
   "source": [
    "es.weights = ef.weights\n",
    "es.portfolio_performance(verbose=True);"
   ]
  },
  {
   "cell_type": "markdown",
   "metadata": {
    "id": "FK4C6ah89nzQ"
   },
   "source": [
    "We see that the heuristic method has a significantly lower Sortino ratio, and much higher semivariance."
   ]
  },
  {
   "cell_type": "markdown",
   "metadata": {
    "id": "yJAcvz899nzQ"
   },
   "source": [
    "## Efficient CVaR optimization\n",
    "\n",
    "In this example, we will find the portfolio that maximises return subject to a CVaR constraint.\n",
    "\n",
    "Before doing this, let's first compute the 95%-CVaR for the max-sharpe portfolio."
   ]
  },
  {
   "cell_type": "code",
   "execution_count": 12,
   "metadata": {
    "colab": {
     "base_uri": "https://localhost:8080/",
     "height": 281
    },
    "id": "x1d3qupJ9nzR",
    "outputId": "daadeac7-706a-445e-fdd6-ab02efc6d005"
   },
   "outputs": [
    {
     "data": {
      "text/html": [
       "<div>\n",
       "<style scoped>\n",
       "    .dataframe tbody tr th:only-of-type {\n",
       "        vertical-align: middle;\n",
       "    }\n",
       "\n",
       "    .dataframe tbody tr th {\n",
       "        vertical-align: top;\n",
       "    }\n",
       "\n",
       "    .dataframe thead th {\n",
       "        text-align: right;\n",
       "    }\n",
       "</style>\n",
       "<table border=\"1\" class=\"dataframe\">\n",
       "  <thead>\n",
       "    <tr style=\"text-align: right;\">\n",
       "      <th>Ticker</th>\n",
       "      <th>AAPL</th>\n",
       "      <th>AMGN</th>\n",
       "      <th>AXP</th>\n",
       "      <th>BA</th>\n",
       "      <th>CAT</th>\n",
       "      <th>CRM</th>\n",
       "      <th>CSCO</th>\n",
       "      <th>CVX</th>\n",
       "      <th>DIS</th>\n",
       "      <th>DOW</th>\n",
       "      <th>...</th>\n",
       "      <th>MRK</th>\n",
       "      <th>MSFT</th>\n",
       "      <th>NKE</th>\n",
       "      <th>PG</th>\n",
       "      <th>TRV</th>\n",
       "      <th>UNH</th>\n",
       "      <th>V</th>\n",
       "      <th>VZ</th>\n",
       "      <th>WBA</th>\n",
       "      <th>WMT</th>\n",
       "    </tr>\n",
       "    <tr>\n",
       "      <th>Date</th>\n",
       "      <th></th>\n",
       "      <th></th>\n",
       "      <th></th>\n",
       "      <th></th>\n",
       "      <th></th>\n",
       "      <th></th>\n",
       "      <th></th>\n",
       "      <th></th>\n",
       "      <th></th>\n",
       "      <th></th>\n",
       "      <th></th>\n",
       "      <th></th>\n",
       "      <th></th>\n",
       "      <th></th>\n",
       "      <th></th>\n",
       "      <th></th>\n",
       "      <th></th>\n",
       "      <th></th>\n",
       "      <th></th>\n",
       "      <th></th>\n",
       "      <th></th>\n",
       "    </tr>\n",
       "  </thead>\n",
       "  <tbody>\n",
       "    <tr>\n",
       "      <th>2019-03-21</th>\n",
       "      <td>0.036831</td>\n",
       "      <td>0.004029</td>\n",
       "      <td>0.009479</td>\n",
       "      <td>-0.009198</td>\n",
       "      <td>0.007894</td>\n",
       "      <td>0.021039</td>\n",
       "      <td>0.012767</td>\n",
       "      <td>0.009383</td>\n",
       "      <td>-0.012092</td>\n",
       "      <td>-0.016466</td>\n",
       "      <td>...</td>\n",
       "      <td>0.010600</td>\n",
       "      <td>0.022975</td>\n",
       "      <td>0.015227</td>\n",
       "      <td>0.007570</td>\n",
       "      <td>0.023148</td>\n",
       "      <td>0.006068</td>\n",
       "      <td>0.013333</td>\n",
       "      <td>0.010751</td>\n",
       "      <td>0.012900</td>\n",
       "      <td>0.004258</td>\n",
       "    </tr>\n",
       "    <tr>\n",
       "      <th>2019-03-22</th>\n",
       "      <td>-0.020708</td>\n",
       "      <td>-0.027047</td>\n",
       "      <td>-0.021105</td>\n",
       "      <td>-0.028253</td>\n",
       "      <td>-0.032000</td>\n",
       "      <td>-0.032645</td>\n",
       "      <td>-0.022247</td>\n",
       "      <td>-0.022008</td>\n",
       "      <td>-0.003957</td>\n",
       "      <td>-0.007758</td>\n",
       "      <td>...</td>\n",
       "      <td>-0.007956</td>\n",
       "      <td>-0.026368</td>\n",
       "      <td>-0.066129</td>\n",
       "      <td>-0.008098</td>\n",
       "      <td>0.003944</td>\n",
       "      <td>-0.019562</td>\n",
       "      <td>-0.017522</td>\n",
       "      <td>0.025218</td>\n",
       "      <td>-0.018711</td>\n",
       "      <td>-0.007874</td>\n",
       "    </tr>\n",
       "    <tr>\n",
       "      <th>2019-03-25</th>\n",
       "      <td>-0.012091</td>\n",
       "      <td>-0.000589</td>\n",
       "      <td>-0.003837</td>\n",
       "      <td>0.022890</td>\n",
       "      <td>0.012406</td>\n",
       "      <td>-0.003839</td>\n",
       "      <td>-0.000190</td>\n",
       "      <td>-0.001625</td>\n",
       "      <td>-0.004066</td>\n",
       "      <td>0.011317</td>\n",
       "      <td>...</td>\n",
       "      <td>0.000729</td>\n",
       "      <td>0.005211</td>\n",
       "      <td>0.001703</td>\n",
       "      <td>0.002951</td>\n",
       "      <td>0.000371</td>\n",
       "      <td>-0.000931</td>\n",
       "      <td>-0.000261</td>\n",
       "      <td>0.005355</td>\n",
       "      <td>-0.011537</td>\n",
       "      <td>-0.001119</td>\n",
       "    </tr>\n",
       "    <tr>\n",
       "      <th>2019-03-26</th>\n",
       "      <td>-0.010332</td>\n",
       "      <td>0.009004</td>\n",
       "      <td>0.004219</td>\n",
       "      <td>-0.000216</td>\n",
       "      <td>0.003501</td>\n",
       "      <td>-0.009199</td>\n",
       "      <td>0.009482</td>\n",
       "      <td>0.010090</td>\n",
       "      <td>0.021802</td>\n",
       "      <td>-0.006104</td>\n",
       "      <td>...</td>\n",
       "      <td>0.006922</td>\n",
       "      <td>0.002125</td>\n",
       "      <td>0.012753</td>\n",
       "      <td>0.010396</td>\n",
       "      <td>0.000222</td>\n",
       "      <td>-0.014057</td>\n",
       "      <td>0.014834</td>\n",
       "      <td>0.009155</td>\n",
       "      <td>0.003729</td>\n",
       "      <td>0.001528</td>\n",
       "    </tr>\n",
       "    <tr>\n",
       "      <th>2019-03-27</th>\n",
       "      <td>0.008994</td>\n",
       "      <td>-0.010357</td>\n",
       "      <td>-0.004749</td>\n",
       "      <td>0.010341</td>\n",
       "      <td>-0.004854</td>\n",
       "      <td>-0.026851</td>\n",
       "      <td>-0.001691</td>\n",
       "      <td>-0.010795</td>\n",
       "      <td>0.001271</td>\n",
       "      <td>0.025589</td>\n",
       "      <td>...</td>\n",
       "      <td>-0.007598</td>\n",
       "      <td>-0.009668</td>\n",
       "      <td>-0.003478</td>\n",
       "      <td>-0.001165</td>\n",
       "      <td>0.010150</td>\n",
       "      <td>-0.006902</td>\n",
       "      <td>-0.006954</td>\n",
       "      <td>0.004123</td>\n",
       "      <td>0.005006</td>\n",
       "      <td>-0.011290</td>\n",
       "    </tr>\n",
       "  </tbody>\n",
       "</table>\n",
       "<p>5 rows × 30 columns</p>\n",
       "</div>"
      ],
      "text/plain": [
       "Ticker          AAPL      AMGN       AXP        BA       CAT       CRM  \\\n",
       "Date                                                                     \n",
       "2019-03-21  0.036831  0.004029  0.009479 -0.009198  0.007894  0.021039   \n",
       "2019-03-22 -0.020708 -0.027047 -0.021105 -0.028253 -0.032000 -0.032645   \n",
       "2019-03-25 -0.012091 -0.000589 -0.003837  0.022890  0.012406 -0.003839   \n",
       "2019-03-26 -0.010332  0.009004  0.004219 -0.000216  0.003501 -0.009199   \n",
       "2019-03-27  0.008994 -0.010357 -0.004749  0.010341 -0.004854 -0.026851   \n",
       "\n",
       "Ticker          CSCO       CVX       DIS       DOW  ...       MRK      MSFT  \\\n",
       "Date                                                ...                       \n",
       "2019-03-21  0.012767  0.009383 -0.012092 -0.016466  ...  0.010600  0.022975   \n",
       "2019-03-22 -0.022247 -0.022008 -0.003957 -0.007758  ... -0.007956 -0.026368   \n",
       "2019-03-25 -0.000190 -0.001625 -0.004066  0.011317  ...  0.000729  0.005211   \n",
       "2019-03-26  0.009482  0.010090  0.021802 -0.006104  ...  0.006922  0.002125   \n",
       "2019-03-27 -0.001691 -0.010795  0.001271  0.025589  ... -0.007598 -0.009668   \n",
       "\n",
       "Ticker           NKE        PG       TRV       UNH         V        VZ  \\\n",
       "Date                                                                     \n",
       "2019-03-21  0.015227  0.007570  0.023148  0.006068  0.013333  0.010751   \n",
       "2019-03-22 -0.066129 -0.008098  0.003944 -0.019562 -0.017522  0.025218   \n",
       "2019-03-25  0.001703  0.002951  0.000371 -0.000931 -0.000261  0.005355   \n",
       "2019-03-26  0.012753  0.010396  0.000222 -0.014057  0.014834  0.009155   \n",
       "2019-03-27 -0.003478 -0.001165  0.010150 -0.006902 -0.006954  0.004123   \n",
       "\n",
       "Ticker           WBA       WMT  \n",
       "Date                            \n",
       "2019-03-21  0.012900  0.004258  \n",
       "2019-03-22 -0.018711 -0.007874  \n",
       "2019-03-25 -0.011537 -0.001119  \n",
       "2019-03-26  0.003729  0.001528  \n",
       "2019-03-27  0.005006 -0.011290  \n",
       "\n",
       "[5 rows x 30 columns]"
      ]
     },
     "execution_count": 12,
     "metadata": {},
     "output_type": "execute_result"
    }
   ],
   "source": [
    "returns = expected_returns.returns_from_prices(prices).dropna()\n",
    "returns.head()"
   ]
  },
  {
   "cell_type": "code",
   "execution_count": 13,
   "metadata": {
    "colab": {
     "base_uri": "https://localhost:8080/"
    },
    "id": "4RdDFhAt9nzR",
    "outputId": "76d8a6e4-c2b9-4c39-e525-e7b8cf2444e7"
   },
   "outputs": [
    {
     "name": "stdout",
     "output_type": "stream",
     "text": [
      "Expected annual return: 24.8%\n",
      "Annual volatility: 9.5%\n",
      "Sharpe Ratio: 2.41\n"
     ]
    }
   ],
   "source": [
    "ef = EfficientFrontier(mu, S)\n",
    "ef.max_sharpe()\n",
    "weight_arr = ef.weights\n",
    "ef.portfolio_performance(verbose=True);"
   ]
  },
  {
   "cell_type": "code",
   "execution_count": 18,
   "metadata": {
    "colab": {
     "base_uri": "https://localhost:8080/",
     "height": 265
    },
    "id": "29a0FtJY9nzR",
    "outputId": "a053e96e-e6fc-4c93-92ce-2cd3373ae112"
   },
   "outputs": [
    {
     "data": {
      "image/png": "[encoded data removed]",
      "text/plain": [
       "<Figure size 640x480 with 1 Axes>"
      ]
     },
     "metadata": {},
     "output_type": "display_data"
    }
   ],
   "source": [
    "# Compute CVaR\n",
    "portfolio_rets = (returns * weight_arr).sum(axis=1)\n",
    "portfolio_rets.hist(bins=50);\n",
    "plt.show()"
   ]
  },
  {
   "cell_type": "code",
   "execution_count": 100,
   "metadata": {
    "colab": {
     "base_uri": "https://localhost:8080/"
    },
    "id": "8LLBZ15l9nzR",
    "outputId": "5f81ae25-bf09-495e-c389-9df5890717d0"
   },
   "outputs": [
    {
     "name": "stdout",
     "output_type": "stream",
     "text": [
      "VaR: -2.13%\n",
      "CVaR: -3.24%\n"
     ]
    }
   ],
   "source": [
    "# VaR\n",
    "var = portfolio_rets.quantile(0.05)\n",
    "cvar = portfolio_rets[portfolio_rets <= var].mean()\n",
    "print(\"VaR: {:.2f}%\".format(100*var))\n",
    "print(\"CVaR: {:.2f}%\".format(100*cvar))"
   ]
  },
  {
   "cell_type": "markdown",
   "metadata": {
    "id": "PxHWPjSz9nzR"
   },
   "source": [
    "This value of the CVaR means that our average loss on the worst 5% of days will be -3.35%. Let's say that this were beyond our comfort zone (for a \\\\$100,000 portfolio, this would mean losing \\\\$3350 in a day).\n",
    "\n",
    "Let's firstly construct the portfolio with the minimum CVaR:"
   ]
  },
  {
   "cell_type": "code",
   "execution_count": 101,
   "metadata": {
    "colab": {
     "base_uri": "https://localhost:8080/"
    },
    "id": "bQ79Y0Gr9nzR",
    "outputId": "b92a041c-9e59-45ba-8cab-ac427d889126"
   },
   "outputs": [
    {
     "name": "stdout",
     "output_type": "stream",
     "text": [
      "Expected annual return: 18.1%\n",
      "Conditional Value at Risk: 2.11%\n"
     ]
    }
   ],
   "source": [
    "from pypfopt import EfficientCVaR\n",
    "\n",
    "ec = EfficientCVaR(mu, returns)\n",
    "ec.min_cvar()\n",
    "ec.portfolio_performance(verbose=True);"
   ]
  },
  {
   "cell_type": "markdown",
   "metadata": {
    "id": "hVEjdNOv9nzS"
   },
   "source": [
    "We have significantly reduced the CVaR, but at the cost of a large reduction in returns. We can use `efficient_risk` to maximise the return for a target risk. Let's say that a 2.5% CVaR is acceptable."
   ]
  },
  {
   "cell_type": "code",
   "execution_count": 102,
   "metadata": {
    "colab": {
     "base_uri": "https://localhost:8080/"
    },
    "id": "onq8FVDr9nzS",
    "outputId": "32b82ef5-e86c-414d-b965-d44e27813ff3"
   },
   "outputs": [
    {
     "name": "stdout",
     "output_type": "stream",
     "text": [
      "Expected annual return: 25.0%\n",
      "Conditional Value at Risk: 2.50%\n"
     ]
    }
   ],
   "source": [
    "from pypfopt import EfficientCVaR\n",
    "\n",
    "ec = EfficientCVaR(mu, returns)\n",
    "ec.efficient_risk(target_cvar=0.025)\n",
    "ec.portfolio_performance(verbose=True);"
   ]
  },
  {
   "cell_type": "markdown",
   "metadata": {
    "id": "6wjVOkqd9nzS"
   },
   "source": [
    "We now have similar returns to before (24.7% vs 25.8%), but with a lower tail risk (2.50% CVaR vs 3.35%). "
   ]
  },
  {
   "cell_type": "markdown",
   "metadata": {
    "id": "LJ_DCIo19nzS"
   },
   "source": [
    "## Plotting - Unconstrained\n",
    "\n",
    "To plot the unconstrained efficient frontier, it is easiest to use the critical line algorithm. "
   ]
  },
  {
   "cell_type": "code",
   "execution_count": 103,
   "metadata": {
    "colab": {
     "base_uri": "https://localhost:8080/"
    },
    "id": "n0UWSKGj9nzS",
    "outputId": "08a6de2a-17e4-4f70-92ea-fe86a9c8f442"
   },
   "outputs": [
    {
     "name": "stdout",
     "output_type": "stream",
     "text": [
      "Expected annual return: 25.1%\n",
      "Annual volatility: 12.8%\n",
      "Sharpe Ratio: 1.81\n"
     ]
    }
   ],
   "source": [
    "from pypfopt import CLA, plotting\n",
    "\n",
    "cla = CLA(mu, S)\n",
    "cla.max_sharpe()\n",
    "cla.portfolio_performance(verbose=True);"
   ]
  },
  {
   "cell_type": "code",
   "execution_count": 104,
   "metadata": {
    "colab": {
     "base_uri": "https://localhost:8080/",
     "height": 297
    },
    "id": "Sk2eFFZ79nzS",
    "outputId": "6f967d10-32c4-4f83-ecac-aed15aa8180a"
   },
   "outputs": [
    {
     "data": {
      "image/png": "[encoded data removed]",
      "text/plain": [
       "<Figure size 432x288 with 1 Axes>"
      ]
     },
     "metadata": {
      "needs_background": "light"
     },
     "output_type": "display_data"
    }
   ],
   "source": [
    "ax = plotting.plot_efficient_frontier(cla, showfig=False)"
   ]
  },
  {
   "cell_type": "markdown",
   "metadata": {
    "id": "aURS39QR9nzS"
   },
   "source": [
    "## Plotting - Constrained"
   ]
  },
  {
   "cell_type": "markdown",
   "metadata": {
    "id": "2xPJH-s69nzT"
   },
   "source": [
    "In this example, we will plot the efficient frontier corresponding to portfolios with a constraint on exposure to MSFT, AMZN, and TSLA (e.g maybe we want to avoid big tech)."
   ]
  },
  {
   "cell_type": "code",
   "execution_count": 109,
   "metadata": {
    "id": "OavRfyqJ9nzT"
   },
   "outputs": [],
   "source": [
    "import cvxpy as cp\n",
    "\n",
    "mu = expected_returns.capm_return(prices)\n",
    "S = risk_models.CovarianceShrinkage(prices).ledoit_wolf()\n",
    "\n",
    "ef = EfficientFrontier(mu, S,)\n",
    "big_tech_indices = [t in {\"MSFT\", \"AMZN\", \"TSLA\"} for t in tickers]\n",
    "ef.add_constraint(lambda w: cp.sum(w[big_tech_indices]) <= 0.3)"
   ]
  },
  {
   "cell_type": "markdown",
   "metadata": {
    "id": "iPJ5mK8p9nzT"
   },
   "source": [
    "As per the docs, *before* we call any optimization function, we should pass this to the plotting module:"
   ]
  },
  {
   "cell_type": "code",
   "execution_count": 110,
   "metadata": {
    "colab": {
     "base_uri": "https://localhost:8080/",
     "height": 297
    },
    "id": "BOehDOq19nzT",
    "outputId": "171cb51c-a5c4-402a-e17e-86d1dda072b1"
   },
   "outputs": [
    {
     "data": {
      "image/png": "[encoded data removed]",
      "text/plain": [
       "<Figure size 640x480 with 1 Axes>"
      ]
     },
     "metadata": {},
     "output_type": "display_data"
    }
   ],
   "source": [
    "ax = plot_efficient_frontier(ef, ef_param=\"risk\", \n",
    "                                      ef_param_range=np.linspace(0.15, 0.4, 50), \n",
    "                                      showfig=False);"
   ]
  },
  {
   "cell_type": "markdown",
   "metadata": {
    "id": "ht1M5kIo9nzT"
   },
   "source": [
    "## Complex plots\n",
    "\n",
    "The `plotting` module allows you to pass in an `ax`, on top of which the plots are added. This allows you to build complex plots. \n",
    "\n",
    "In this example, we will plot the efficient frontier as well as 10,000 simulated portfolios. \n",
    "\n",
    "To generate the simulated portfolios, we will sample random weights from the Dirichlet distribution (these are already normalised):"
   ]
  },
  {
   "cell_type": "code",
   "execution_count": 111,
   "metadata": {
    "colab": {
     "base_uri": "https://localhost:8080/"
    },
    "id": "esHxc73V9nzT",
    "outputId": "decb7120-4d2e-49f3-f7d9-fcb5b78cdcce"
   },
   "outputs": [
    {
     "name": "stdout",
     "output_type": "stream",
     "text": [
      "Sample portfolio returns: [0.22214202 0.24213487 0.20871445 ... 0.21919107 0.2244752  0.21362523]\n",
      "Sample portfolio volatilities: 0       0.163382\n",
      "1       0.165330\n",
      "2       0.150231\n",
      "3       0.138157\n",
      "4       0.167328\n",
      "          ...   \n",
      "9995    0.155127\n",
      "9996    0.164516\n",
      "9997    0.140826\n",
      "9998    0.171589\n",
      "9999    0.154926\n",
      "Length: 10000, dtype: float64\n"
     ]
    }
   ],
   "source": [
    "n_samples = 10000\n",
    "w = np.random.dirichlet(np.ones(len(mu)), n_samples)\n",
    "rets = w.dot(mu)\n",
    "stds = np.sqrt((w.T * (S @ w.T)).sum(axis=0))\n",
    "sharpes = rets / stds\n",
    "\n",
    "print(\"Sample portfolio returns:\", rets)\n",
    "print(\"Sample portfolio volatilities:\", stds)"
   ]
  },
  {
   "cell_type": "markdown",
   "metadata": {
    "id": "Ad_x63489nzT"
   },
   "source": [
    "Note that the above code is equivalent to generating samples via a for loop (just more efficient)"
   ]
  },
  {
   "cell_type": "code",
   "execution_count": 108,
   "metadata": {
    "id": "H3nL43aM9nzT"
   },
   "outputs": [],
   "source": [
    "# mus = []\n",
    "# stds = []\n",
    "# sharpes = []\n",
    "# for _ in range(10000):\n",
    "#     w = np.random.dirichlet(np.ones(len(mu)))\n",
    "#     # w = np.random.rand(len(mu))\n",
    "#     # w /= w.sum()\n",
    "#     ret = mu.dot(w)\n",
    "#     std = np.sqrt(w.dot(S @ w))\n",
    "#     mus.append(ret)\n",
    "#     stds.append(std)\n",
    "#     sharpes.append(ret / std)"
   ]
  },
  {
   "cell_type": "code",
   "execution_count": null,
   "metadata": {
    "colab": {
     "base_uri": "https://localhost:8080/",
     "height": 297
    },
    "id": "WjCjkC9p9nzU",
    "outputId": "386b35b3-75fd-4186-8f65-f16317246965"
   },
   "outputs": [
    {
     "data": {
      "image/png": "[encoded data removed]",
      "text/plain": [
       "<Figure size 640x480 with 1 Axes>"
      ]
     },
     "metadata": {},
     "output_type": "display_data"
    }
   ],
   "source": [
    "# Plot efficient frontier with Monte Carlo sim\n",
    "ef = EfficientFrontier(mu, S)\n",
    "\n",
    "fig, ax = plt.subplots()\n",
    "plot_efficient_frontier(ef, ax=ax, show_assets=False)\n",
    "\n",
    "# Find and plot the tangency portfolio\n",
    "ef2 = EfficientFrontier(mu, S)\n",
    "ef2.min_volatility()\n",
    "ret_tangent, std_tangent, _ = ef2.portfolio_performance()\n",
    "\n",
    "# Plot random portfolios\n",
    "ax.scatter(stds, rets, marker=\".\", c=sharpes, cmap=\"viridis_r\")\n",
    "\n",
    "# Format\n",
    "ax.set_title(\"Efficient Frontier with random portfolios\")\n",
    "ax.legend()\n",
    "plt.tight_layout()\n",
    "plt.show()\n"
   ]
  },
  {
   "cell_type": "code",
   "execution_count": 109,
   "metadata": {
    "id": "dZ0tR7Lt9nzU"
   },
   "outputs": [],
   "source": []
  }
 ],
 "metadata": {
  "colab": {
   "collapsed_sections": [
    "PBvVeqtm9nzP"
   ],
   "name": "2-Mean-Variance-Optimisation.ipynb",
   "provenance": []
  },
  "kernelspec": {
   "display_name": "Thesis",
   "language": "python",
   "name": "python3"
  },
  "language_info": {
   "codemirror_mode": {
    "name": "ipython",
    "version": 3
   },
   "file_extension": ".py",
   "mimetype": "text/x-python",
   "name": "python",
   "nbconvert_exporter": "python",
   "pygments_lexer": "ipython3",
   "version": "3.10.14"
  }
 },
 "nbformat": 4,
 "nbformat_minor": 0
}
