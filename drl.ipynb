{
 "cells": [
  {
   "cell_type": "code",
   "execution_count": 1,
   "metadata": {},
   "outputs": [],
   "source": [
    "import numpy as np"
   ]
  },
  {
   "cell_type": "code",
   "execution_count": 2,
   "metadata": {},
   "outputs": [],
   "source": [
    "layers = [\n",
    "    {\"input\": 2,  \"output\": 40, \"activation\": 'relu'},\n",
    "    {\"input\": 40,  \"output\": 40, \"activation\": 'relu'},\n",
    "    {\"input\": 40,  \"output\": 20, \"activation\": 'relu'},\n",
    "    {\"input\": 20,  \"output\": 1, \"activation\": 'sigmoid'},\n",
    "]"
   ]
  },
  {
   "cell_type": "code",
   "execution_count": 14,
   "metadata": {},
   "outputs": [
    {
     "name": "stderr",
     "output_type": "stream",
     "text": [
      "<>:16: SyntaxWarning: \"is\" with a literal. Did you mean \"==\"?\n",
      "<>:18: SyntaxWarning: \"is\" with a literal. Did you mean \"==\"?\n",
      "<>:16: SyntaxWarning: \"is\" with a literal. Did you mean \"==\"?\n",
      "<>:18: SyntaxWarning: \"is\" with a literal. Did you mean \"==\"?\n",
      "C:\\Users\\versu\\AppData\\Local\\Temp\\ipykernel_22736\\621814181.py:16: SyntaxWarning: \"is\" with a literal. Did you mean \"==\"?\n",
      "  if activation_function is 'relu':\n",
      "C:\\Users\\versu\\AppData\\Local\\Temp\\ipykernel_22736\\621814181.py:18: SyntaxWarning: \"is\" with a literal. Did you mean \"==\"?\n",
      "  if activation_function is 'sigmoid':\n"
     ]
    }
   ],
   "source": [
    "def init_network(netowrk_arch,seed= 42):\n",
    "    parameters={}\n",
    "    for index,arch in enumerate(netowrk_arch):\n",
    "        input_layer_size = arch['input']\n",
    "        output_layer_size = arch['output']\n",
    "        parameters[\"W\"+str(index+1)] = np.random.randn(output_layer_size,input_layer_size) * 0.1\n",
    "        parameters[\"b\"+str(index +1)] = np.random.randn(output_layer_size,1) * 0.1\n",
    "    return parameters\n",
    "        \n",
    "def sigmoid(z):\n",
    "    return 1 / np.exp(-z)\n",
    "def relu(z):\n",
    "    return np.maximum(0,z)\n",
    "def single_layer_forward_propagation(weights, prev_activation,bias,activation_function):\n",
    "     abv = np.dot(weights,prev_activation) + bias\n",
    "     if activation_function is 'relu':\n",
    "         z_curr = relu(abv)\n",
    "     if activation_function is 'sigmoid':\n",
    "         z_curr = sigmoid(abv)\n",
    "     return  z_curr,abv\n",
    "\n",
    "def full_forward_propagation(X, params_values, nn_architecture):\n",
    "    # creating a temporary memory to store the information needed for a backward step\n",
    "    memory = {}\n",
    "    # X vector is the activation for layer 0 \n",
    "    A_curr = X\n",
    "    \n",
    "    # iteration over network layers\n",
    "    for idx, layer in enumerate(nn_architecture):\n",
    "        # we number network layers from 1\n",
    "        layer_idx = idx + 1\n",
    "        # transfer the activation from the previous iteration\n",
    "        A_prev = A_curr\n",
    "        \n",
    "        # extraction of the activation function for the current layer\n",
    "        activ_function_curr = layer[\"activation\"]\n",
    "        # extraction of W for the current layer\n",
    "        W_curr = params_values[\"W\" + str(layer_idx)]\n",
    "        # extraction of b for the current layer\n",
    "        b_curr = params_values[\"b\" + str(layer_idx)]\n",
    "        # calculation of activation for the current layer\n",
    "        A_curr, Z_curr = single_layer_forward_propagation( W_curr,A_prev, b_curr, activ_function_curr)\n",
    "        \n",
    "        # saving calculated values in the memory\n",
    "        memory[\"A\" + str(idx)] = A_prev\n",
    "        memory[\"Z\" + str(layer_idx)] = Z_curr\n",
    "       \n",
    "    # return of prediction vector and a dictionary containing intermediate values\n",
    "    return A_curr, memory"
   ]
  },
  {
   "cell_type": "code",
   "execution_count": 29,
   "metadata": {},
   "outputs": [],
   "source": [
    "network_parameters = init_network(layers)\n",
    "X = network_parameters['W1'].T\n",
    "forward,_ = full_forward_propagation(X,network_parameters,layers)"
   ]
  },
  {
   "cell_type": "code",
   "execution_count": 82,
   "metadata": {},
   "outputs": [
    {
     "data": {
      "text/plain": [
       "(40,)"
      ]
     },
     "execution_count": 82,
     "metadata": {},
     "output_type": "execute_result"
    }
   ],
   "source": [
    "forward[0].shape"
   ]
  }
 ],
 "metadata": {
  "kernelspec": {
   "display_name": "Thesis",
   "language": "python",
   "name": "python3"
  },
  "language_info": {
   "codemirror_mode": {
    "name": "ipython",
    "version": 3
   },
   "file_extension": ".py",
   "mimetype": "text/x-python",
   "name": "python",
   "nbconvert_exporter": "python",
   "pygments_lexer": "ipython3",
   "version": "3.10.14"
  }
 },
 "nbformat": 4,
 "nbformat_minor": 2
}
